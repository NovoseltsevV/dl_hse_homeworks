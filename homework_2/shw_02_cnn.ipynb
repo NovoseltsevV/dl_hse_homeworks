{
  "cells": [
    {
      "cell_type": "markdown",
      "metadata": {
        "id": "w35Q6hOIy4sk"
      },
      "source": [
        "# Глубинное обучение 1 / Введение в глубинное обучение, ФКН ВШЭ\n",
        "\n",
        "## Домашнее задание 2: сверточный классификатор.\n",
        "\n",
        "### Общая информация\n",
        "\n",
        "Оценка после штрафа после мягкого дедлайна вычисляется по формуле $M_{\\text{penalty}} = M_{\\text{full}} \\cdot 0.85^{t/1440}$, где $M_{\\text{full}}$ — полная оценка за работу без учета штрафа, а $t$ — время в минутах, прошедшее после мягкого дедлайна (округление до двух цифр после запятой). Таким образом, спустя первые сутки после мягкого дедлайна вы не можете получить оценку выше 8.5, а если сдать через четыре дня после мягкого дедлайна, то ваш максимум — 5.22 балла.\n",
        "\n",
        "### Оценивание и штрафы\n",
        "\n",
        "Максимально допустимая оценка за работу — 10 баллов. Сдавать задание после указанного срока сдачи нельзя.\n",
        "\n",
        "Задание выполняется самостоятельно. «Похожие» решения считаются плагиатом и все задействованные студенты (в том числе те, у кого списали) не могут получить за него больше 0 баллов. Если вы нашли решение какого-то из заданий (или его часть) в открытом источнике, необходимо указать ссылку на этот источник в отдельном блоке в конце вашей работы (скорее всего вы будете не единственным, кто это нашел, поэтому чтобы исключить подозрение в плагиате, необходима ссылка на источник).\n",
        "\n",
        "Неэффективная реализация кода может негативно отразиться на оценке. Также оценка может быть снижена за плохо читаемый код и плохо оформленные графики. Все ответы должны сопровождаться кодом или комментариями о том, как они были получены.\n",
        "\n",
        "### О задании\n",
        "\n",
        "В этом задании вам предстоит познакомиться со сверточными сетями и их обучением для классификации изображений с использованием библиотеки PyTorch.\n"
      ]
    },
    {
      "cell_type": "code",
      "execution_count": 34,
      "metadata": {
        "id": "SaACifdX2QOo"
      },
      "outputs": [],
      "source": [
        "import torch\n",
        "import torch.nn as nn\n",
        "import torch.nn.functional as F\n",
        "import torch.optim as optim\n",
        "import torchvision\n",
        "import torchvision.transforms as transforms\n",
        "\n",
        "import matplotlib.pyplot as plt\n",
        "import numpy as np\n",
        "\n",
        "from sklearn.model_selection import train_test_split"
      ]
    },
    {
      "cell_type": "markdown",
      "metadata": {
        "id": "TIXaUYM-0JFl"
      },
      "source": [
        "## 0. Загрузка данных\n",
        "\n",
        "Работать мы будем с набором данных [CIFAR10](https://www.cs.toronto.edu/~kriz/cifar.html). CIFAR10 представляет собой набор изображений 32х32 пикселя, разделенных на 10 классов.\n",
        "\n",
        "![title](https://pytorch.org/tutorials/_images/cifar10.png)\n",
        "\n",
        "\n"
      ]
    },
    {
      "cell_type": "markdown",
      "metadata": {
        "id": "g-0EEjl_10vB"
      },
      "source": [
        "Набор данных уже определен в <code>torchvision.datasets</code>, так что возьмем его оттуда.\n",
        "\n"
      ]
    },
    {
      "cell_type": "code",
      "execution_count": 35,
      "metadata": {
        "id": "Cbwe92dT3aPZ"
      },
      "outputs": [],
      "source": [
        "def get_cifar10_data(batch_size, transform_train):\n",
        "    torch.manual_seed(0)\n",
        "    np.random.seed(0)\n",
        "\n",
        "    transform_test = transforms.Compose(\n",
        "        [transforms.ToTensor(),\n",
        "         # Переводим цвета пикселей в отрезок [-1, 1]\n",
        "         transforms.Normalize((0.5, 0.5, 0.5), (0.5, 0.5, 0.5))]\n",
        "    )\n",
        "\n",
        "    # Загружаем данные\n",
        "    trainvalset = torchvision.datasets.CIFAR10(root='./data', train=True,\n",
        "                                               download=True, transform=transform_train)\n",
        "    testset = torchvision.datasets.CIFAR10(root='./data', train=False,\n",
        "                                           download=True, transform=transform_test)\n",
        "\n",
        "    # В датасете определено разбиение только на train и test,\n",
        "    # так что валидацию дополнительно выделяем из обучающей выборки\n",
        "    train_idx, valid_idx = train_test_split(np.arange(len(trainvalset)), test_size=0.3,\n",
        "                                            shuffle=True, random_state=0)\n",
        "    trainset = torch.utils.data.Subset(trainvalset, train_idx)\n",
        "    valset = torch.utils.data.Subset(trainvalset, valid_idx)\n",
        "\n",
        "    train_loader = torch.utils.data.DataLoader(trainset, batch_size=batch_size,\n",
        "                                               shuffle=True)\n",
        "    val_loader = torch.utils.data.DataLoader(valset, batch_size=batch_size,\n",
        "                                             shuffle=False)\n",
        "    test_loader = torch.utils.data.DataLoader(testset, batch_size=batch_size,\n",
        "                                              shuffle=False)\n",
        "\n",
        "    return train_loader, val_loader, test_loader\n"
      ]
    },
    {
      "cell_type": "code",
      "execution_count": null,
      "metadata": {
        "colab": {
          "base_uri": "https://localhost:8080/"
        },
        "id": "2G2rLnN5y6Jj",
        "outputId": "50b10581-9d40-44bb-f39e-e11738d1a16b"
      },
      "outputs": [
        {
          "name": "stderr",
          "output_type": "stream",
          "text": [
            "100%|██████████| 170M/170M [00:03<00:00, 47.5MB/s]\n"
          ]
        }
      ],
      "source": [
        "transform = transforms.Compose(\n",
        "        [transforms.ToTensor(),\n",
        "         transforms.Normalize((0.5, 0.5, 0.5), (0.5, 0.5, 0.5))]\n",
        ")\n",
        "\n",
        "train_loader, val_loader, test_loader = get_cifar10_data(batch_size=64,\n",
        "                                                         transform_train=transform)"
      ]
    },
    {
      "cell_type": "markdown",
      "metadata": {
        "id": "-82HWgXs77W1"
      },
      "source": [
        "Посмотрим на изображения:"
      ]
    },
    {
      "cell_type": "code",
      "execution_count": null,
      "metadata": {
        "colab": {
          "base_uri": "https://localhost:8080/",
          "height": 210
        },
        "id": "ACnwaC5iy6L2",
        "outputId": "748799d7-af32-491c-df18-6156ef8b2408"
      },
      "outputs": [
        {
          "data": {
            "image/png": "[encoded data removed]",
            "text/plain": [
              "<Figure size 640x480 with 1 Axes>"
            ]
          },
          "metadata": {},
          "output_type": "display_data"
        },
        {
          "name": "stdout",
          "output_type": "stream",
          "text": [
            "ship frog horse horse\n"
          ]
        }
      ],
      "source": [
        "def imshow(img):\n",
        "    img = img / 2 + 0.5\n",
        "    npimg = img.numpy()\n",
        "    plt.imshow(np.transpose(npimg, (1, 2, 0)))\n",
        "    plt.show()\n",
        "\n",
        "\n",
        "dataiter = iter(train_loader)\n",
        "images, labels = next(dataiter)\n",
        "\n",
        "imshow(torchvision.utils.make_grid(images[:4]))\n",
        "\n",
        "classes = ('plane', 'car', 'bird', 'cat',\n",
        "           'deer', 'dog', 'frog', 'horse', 'ship', 'truck')\n",
        "print(*[classes[labels[i]] for i in range(4)])"
      ]
    },
    {
      "cell_type": "markdown",
      "metadata": {
        "id": "KFDilng29YZ_"
      },
      "source": [
        "## 1. Задание сверточной сети (3 балла)"
      ]
    },
    {
      "cell_type": "markdown",
      "metadata": {
        "id": "OX7Ul8YbYdQR"
      },
      "source": [
        "Теперь нам нужно задать сверточную нейронную сеть, которую мы будем обучать классифицировать изображения.\n",
        "\n",
        "Используем сеть, основанную на одном блоке архитектуры ResNet.\n",
        "\n",
        "<img src=\"https://i.ibb.co/2hg962h/basic-block.png\" width=\"500\"/>\n",
        "\n",
        "__Указания:__\n",
        "\n",
        "- Все сверточные слои должны иметь 32 выходных канала, а также не должны изменять ширину и высоту изображения.\n",
        "- Выход блока сократите до размерности 32х4х4, применив average pooling.\n",
        "- Для получения итоговых логитов, распрямите выход пулинга в вектор из 512 элементов, а затем пропустите его через линейный слой."
      ]
    },
    {
      "cell_type": "markdown",
      "metadata": {
        "id": "sbyIylT9O9Dr"
      },
      "source": [
        "**Задание 1.1 (3 балла).**\n",
        "\n",
        "Определите архитектуру сети соответственно схеме и указаниям выше.\n",
        "\n",
        "Ключевые слова: <code>Conv2d</code>, <code>BatchNorm2d</code>, <code>AvgPool2d</code>."
      ]
    },
    {
      "cell_type": "code",
      "execution_count": null,
      "metadata": {
        "id": "s9ml1QGKy6N9"
      },
      "outputs": [],
      "source": [
        "n_classes = 10\n",
        "\n",
        "class BasicBlockNet(nn.Module):\n",
        "    def __init__(self, n_classes=10):\n",
        "        super().__init__()\n",
        "        self.n_classes = n_classes\n",
        "\n",
        "        self.net1 = nn.Sequential(\n",
        "            nn.Conv2d(3, 32, kernel_size=3, padding=1),\n",
        "            nn.BatchNorm2d(num_features=32),\n",
        "            nn.ReLU(),\n",
        "            nn.Conv2d(32, 32, kernel_size=3, padding=1),\n",
        "            nn.BatchNorm2d(num_features=32)\n",
        "        )\n",
        "\n",
        "        self.net2 = nn.Conv2d(3, 32, kernel_size=1)\n",
        "        self.activation = nn.ReLU()\n",
        "        self.pooling = nn.AvgPool2d(kernel_size=8, stride=8)\n",
        "        self.flatten = nn.Flatten()\n",
        "        self.net3 = nn.Linear(512, self.n_classes)\n",
        "\n",
        "    def forward(self, x):\n",
        "        out1 = self.net1(x)\n",
        "        out2 = self.net2(x)\n",
        "        out = self.activation(out1 + out2)\n",
        "        out = self.pooling(out)\n",
        "        out = self.flatten(out)\n",
        "        out = self.net3(out)\n",
        "        return out"
      ]
    },
    {
      "cell_type": "code",
      "execution_count": null,
      "metadata": {
        "colab": {
          "base_uri": "https://localhost:8080/"
        },
        "id": "FI4BQg7Ky6Pw",
        "outputId": "ccf84284-574f-459a-c3e8-8872afea6ec2"
      },
      "outputs": [
        {
          "data": {
            "text/plain": [
              "BasicBlockNet(\n",
              "  (net1): Sequential(\n",
              "    (0): Conv2d(3, 32, kernel_size=(3, 3), stride=(1, 1), padding=(1, 1))\n",
              "    (1): BatchNorm2d(32, eps=1e-05, momentum=0.1, affine=True, track_running_stats=True)\n",
              "    (2): ReLU()\n",
              "    (3): Conv2d(32, 32, kernel_size=(3, 3), stride=(1, 1), padding=(1, 1))\n",
              "    (4): BatchNorm2d(32, eps=1e-05, momentum=0.1, affine=True, track_running_stats=True)\n",
              "  )\n",
              "  (net2): Conv2d(3, 32, kernel_size=(1, 1), stride=(1, 1))\n",
              "  (activation): ReLU()\n",
              "  (pooling): AvgPool2d(kernel_size=8, stride=8, padding=0)\n",
              "  (flatten): Flatten(start_dim=1, end_dim=-1)\n",
              "  (net3): Linear(in_features=512, out_features=10, bias=True)\n",
              ")"
            ]
          },
          "execution_count": 6,
          "metadata": {},
          "output_type": "execute_result"
        }
      ],
      "source": [
        "net = BasicBlockNet()\n",
        "net"
      ]
    },
    {
      "cell_type": "markdown",
      "metadata": {
        "id": "igPoGZEub8d3"
      },
      "source": [
        "Проверим, что выход сети имеет корректную размерность:"
      ]
    },
    {
      "cell_type": "code",
      "execution_count": null,
      "metadata": {
        "id": "cCIzFUpJ_Agw"
      },
      "outputs": [],
      "source": [
        "assert net(torch.zeros((10, 3, 32, 32))).shape == (10, 10)"
      ]
    },
    {
      "cell_type": "markdown",
      "metadata": {
        "id": "08osX622cDGz"
      },
      "source": [
        "Чтобы проводить вычисления на GPU, в PyTorch необходимо руками перекладывать объекты, с которыми вы хотите проводить вычисления, на графический ускоритель. Это делается следующим образрм:"
      ]
    },
    {
      "cell_type": "code",
      "execution_count": null,
      "metadata": {
        "colab": {
          "base_uri": "https://localhost:8080/"
        },
        "id": "56hDOMCFcDZX",
        "outputId": "4f4aec7f-ebbe-4b27-a0d0-56473dcca10d"
      },
      "outputs": [
        {
          "name": "stdout",
          "output_type": "stream",
          "text": [
            "cuda:0\n"
          ]
        }
      ],
      "source": [
        "device = torch.device('cuda:0' if torch.cuda.is_available() else 'cpu')\n",
        "print(device)"
      ]
    },
    {
      "cell_type": "code",
      "execution_count": null,
      "metadata": {
        "id": "ohnDWbp0qbtC"
      },
      "outputs": [],
      "source": [
        "net = net.to(device)"
      ]
    },
    {
      "cell_type": "markdown",
      "metadata": {
        "id": "H_bOlTVUp5QF"
      },
      "source": [
        "Подключение GPU в google.colab:\n",
        "\n",
        "**Среда выполнения** -> **Сменить среду выполнения** -> **Аппаратный ускоритель** -> **GPU**"
      ]
    },
    {
      "cell_type": "markdown",
      "metadata": {
        "id": "AGi6XX_7_Bgg"
      },
      "source": [
        "## 2. Обучение и тестирование модели (3 балла)"
      ]
    },
    {
      "cell_type": "markdown",
      "metadata": {
        "id": "0agj_MQoO9Ds"
      },
      "source": [
        "**Задание 2.1 (2 балла).** Переходим к обучению модели. Заполните пропуски в функциях <code>test</code> и <code>train_epoch</code>. В качестве функции потерь будем использовать [кросс-энтропию](https://pytorch.org/docs/stable/generated/torch.nn.functional.cross_entropy.html), а в качестве метрики качества accuracy."
      ]
    },
    {
      "cell_type": "code",
      "execution_count": null,
      "metadata": {
        "id": "zbaJmp_CLowH"
      },
      "outputs": [],
      "source": [
        "from tqdm import tqdm"
      ]
    },
    {
      "cell_type": "code",
      "execution_count": null,
      "metadata": {
        "id": "g8gsPPRIevDS"
      },
      "outputs": [],
      "source": [
        "criterion = nn.CrossEntropyLoss()\n",
        "\n",
        "def test(model, loader):\n",
        "    loss_log = []\n",
        "    acc_log = []\n",
        "    model.eval()\n",
        "\n",
        "    with torch.inference_mode():\n",
        "        for data, target in loader:\n",
        "            data, target = data.to(device), target.to(device)\n",
        "            out = model(data)\n",
        "            loss = criterion(out, target)\n",
        "\n",
        "            loss_log.append(loss.item())\n",
        "\n",
        "            acc = (out.argmax(dim=1) == target).float().mean()\n",
        "\n",
        "            acc_log.append(acc.item())\n",
        "\n",
        "    return np.mean(loss_log), np.mean(acc_log)\n",
        "\n",
        "def train_epoch(model, optimizer, train_loader):\n",
        "    loss_log = []\n",
        "    acc_log = []\n",
        "    model.train()\n",
        "\n",
        "    for data, target in train_loader:\n",
        "        data, target = data.to(device), target.to(device)\n",
        "        optimizer.zero_grad()\n",
        "        out = model(data)\n",
        "        loss = criterion(out, target)\n",
        "        loss.backward()\n",
        "        optimizer.step()\n",
        "\n",
        "        loss_log.append(loss.item())\n",
        "\n",
        "        acc = (out.argmax(dim=1) == target).float().mean()\n",
        "\n",
        "        acc_log.append(acc.item())\n",
        "\n",
        "    return loss_log, acc_log\n",
        "\n",
        "def train(model, optimizer, n_epochs, train_loader, val_loader, scheduler=None):\n",
        "    train_loss_log, train_acc_log, val_loss_log, val_acc_log = [], [], [], []\n",
        "\n",
        "    for epoch in tqdm(range(n_epochs), leave=True):\n",
        "        train_loss, train_acc = train_epoch(model, optimizer, train_loader)\n",
        "        val_loss, val_acc = test(model, val_loader)\n",
        "\n",
        "        train_loss_log.extend(train_loss)\n",
        "        train_acc_log.extend(train_acc)\n",
        "\n",
        "        val_loss_log.append(val_loss)\n",
        "        val_acc_log.append(val_acc)\n",
        "\n",
        "        tqdm.write(f\"Epoch {epoch}\")\n",
        "        tqdm.write(f\" train loss: {np.mean(train_loss)}, train acc: {np.mean(train_acc)}\")\n",
        "        tqdm.write(f\" val loss: {val_loss}, val acc: {val_acc}\\n\")\n",
        "\n",
        "        if scheduler is not None:\n",
        "            scheduler.step()\n",
        "\n",
        "    return train_loss_log, train_acc_log, val_loss_log, val_acc_log"
      ]
    },
    {
      "cell_type": "markdown",
      "metadata": {
        "id": "iSOqk_CAO9Dt"
      },
      "source": [
        "Запустим обучение модели. В качестве оптимизатора будем использовать стохастический градиентный спуск, который является де-факто стандартом в задачах компьютерного зрения (наравне с <code>Adam</code>).\n",
        "\n",
        "__Замечание:__ Для достижения наилучшего качества в нашем случае потребуется обучать модель несколько сотен эпох. Однако в целях экономии вашего времени и сил, во всех экспериментах мы ограничимся 20 эпохами."
      ]
    },
    {
      "cell_type": "code",
      "execution_count": null,
      "metadata": {
        "colab": {
          "base_uri": "https://localhost:8080/"
        },
        "id": "MKZBGhuAgMDu",
        "outputId": "a62ee3f8-370d-49b1-f513-868c10cd9feb",
        "scrolled": true
      },
      "outputs": [
        {
          "name": "stderr",
          "output_type": "stream",
          "text": [
            "  5%|▌         | 1/20 [00:15<05:01, 15.86s/it]"
          ]
        },
        {
          "name": "stdout",
          "output_type": "stream",
          "text": [
            "Epoch 0\n",
            " train loss: 0.9131660846077327, train acc: 0.6834682684929759\n",
            " val loss: 0.9770427592257236, val acc: 0.6681959220703612\n",
            "\n"
          ]
        },
        {
          "name": "stderr",
          "output_type": "stream",
          "text": [
            " 10%|█         | 2/20 [00:31<04:44, 15.78s/it]"
          ]
        },
        {
          "name": "stdout",
          "output_type": "stream",
          "text": [
            "Epoch 1\n",
            " train loss: 0.8936886693158577, train acc: 0.6896831745203496\n",
            " val loss: 0.9126443355641467, val acc: 0.6881427305809995\n",
            "\n"
          ]
        },
        {
          "name": "stderr",
          "output_type": "stream",
          "text": [
            " 15%|█▌        | 3/20 [00:47<04:30, 15.90s/it]"
          ]
        },
        {
          "name": "stdout",
          "output_type": "stream",
          "text": [
            "Epoch 2\n",
            " train loss: 0.8754326530086929, train acc: 0.6955961087068212\n",
            " val loss: 0.9114859433884316, val acc: 0.6837322696726373\n",
            "\n"
          ]
        },
        {
          "name": "stderr",
          "output_type": "stream",
          "text": [
            " 20%|██        | 4/20 [01:03<04:15, 15.94s/it]"
          ]
        },
        {
          "name": "stdout",
          "output_type": "stream",
          "text": [
            "Epoch 3\n",
            " train loss: 0.8691348308183158, train acc: 0.6980078023138169\n",
            " val loss: 0.9311461136696186, val acc: 0.6811391845662543\n",
            "\n"
          ]
        },
        {
          "name": "stderr",
          "output_type": "stream",
          "text": [
            " 25%|██▌       | 5/20 [01:19<03:58, 15.88s/it]"
          ]
        },
        {
          "name": "stdout",
          "output_type": "stream",
          "text": [
            "Epoch 4\n",
            " train loss: 0.8480627008286429, train acc: 0.703112757946935\n",
            " val loss: 0.9218314454910603, val acc: 0.6793218085106383\n",
            "\n"
          ]
        },
        {
          "name": "stderr",
          "output_type": "stream",
          "text": [
            " 30%|███       | 6/20 [01:35<03:42, 15.89s/it]"
          ]
        },
        {
          "name": "stdout",
          "output_type": "stream",
          "text": [
            "Epoch 5\n",
            " train loss: 0.8321960762933142, train acc: 0.7109191368659192\n",
            " val loss: 0.8855778635816371, val acc: 0.6940159574468086\n",
            "\n"
          ]
        },
        {
          "name": "stderr",
          "output_type": "stream",
          "text": [
            " 35%|███▌      | 7/20 [01:51<03:29, 16.13s/it]"
          ]
        },
        {
          "name": "stdout",
          "output_type": "stream",
          "text": [
            "Epoch 6\n",
            " train loss: 0.8236198375168404, train acc: 0.7141020828670732\n",
            " val loss: 0.9188889320860518, val acc: 0.6852615249917863\n",
            "\n"
          ]
        },
        {
          "name": "stderr",
          "output_type": "stream",
          "text": [
            " 40%|████      | 8/20 [02:07<03:12, 16.01s/it]"
          ]
        },
        {
          "name": "stdout",
          "output_type": "stream",
          "text": [
            "Epoch 7\n",
            " train loss: 0.8180682501692659, train acc: 0.7173911269883569\n",
            " val loss: 0.9486868640209766, val acc: 0.6827349292471053\n",
            "\n"
          ]
        },
        {
          "name": "stderr",
          "output_type": "stream",
          "text": [
            " 45%|████▌     | 9/20 [02:23<02:55, 15.91s/it]"
          ]
        },
        {
          "name": "stdout",
          "output_type": "stream",
          "text": [
            "Epoch 8\n",
            " train loss: 0.8024786579979403, train acc: 0.7202639397798988\n",
            " val loss: 0.8741429359354871, val acc: 0.6995789007937655\n",
            "\n"
          ]
        },
        {
          "name": "stderr",
          "output_type": "stream",
          "text": [
            " 50%|█████     | 10/20 [02:39<02:39, 15.98s/it]"
          ]
        },
        {
          "name": "stdout",
          "output_type": "stream",
          "text": [
            "Epoch 9\n",
            " train loss: 0.7976956330444085, train acc: 0.7224022264454439\n",
            " val loss: 0.9333168460967692, val acc: 0.680186170212766\n",
            "\n"
          ]
        },
        {
          "name": "stderr",
          "output_type": "stream",
          "text": [
            " 55%|█████▌    | 11/20 [02:55<02:23, 15.90s/it]"
          ]
        },
        {
          "name": "stdout",
          "output_type": "stream",
          "text": [
            "Epoch 10\n",
            " train loss: 0.7853702450583142, train acc: 0.7263482633630798\n",
            " val loss: 0.870260027368018, val acc: 0.7012189718002969\n",
            "\n"
          ]
        },
        {
          "name": "stderr",
          "output_type": "stream",
          "text": [
            " 60%|██████    | 12/20 [03:10<02:06, 15.81s/it]"
          ]
        },
        {
          "name": "stdout",
          "output_type": "stream",
          "text": [
            "Epoch 11\n",
            " train loss: 0.7861995908961218, train acc: 0.7260993406367259\n",
            " val loss: 0.8816289610051095, val acc: 0.6990248228641267\n",
            "\n"
          ]
        },
        {
          "name": "stderr",
          "output_type": "stream",
          "text": [
            " 65%|██████▌   | 13/20 [03:26<01:51, 15.87s/it]"
          ]
        },
        {
          "name": "stdout",
          "output_type": "stream",
          "text": [
            "Epoch 12\n",
            " train loss: 0.7707268791835095, train acc: 0.7314572995715865\n",
            " val loss: 0.8748919806581863, val acc: 0.698470744680851\n",
            "\n"
          ]
        },
        {
          "name": "stderr",
          "output_type": "stream",
          "text": [
            " 70%|███████   | 14/20 [03:42<01:34, 15.81s/it]"
          ]
        },
        {
          "name": "stdout",
          "output_type": "stream",
          "text": [
            "Epoch 13\n",
            " train loss: 0.7619026587693739, train acc: 0.733832267019387\n",
            " val loss: 0.8752414152977315, val acc: 0.7025265957446809\n",
            "\n"
          ]
        },
        {
          "name": "stderr",
          "output_type": "stream",
          "text": [
            " 75%|███████▌  | 15/20 [03:58<01:18, 15.72s/it]"
          ]
        },
        {
          "name": "stdout",
          "output_type": "stream",
          "text": [
            "Epoch 14\n",
            " train loss: 0.7578274501416103, train acc: 0.7359379081011255\n",
            " val loss: 0.9006458548789329, val acc: 0.692442376055616\n",
            "\n"
          ]
        },
        {
          "name": "stderr",
          "output_type": "stream",
          "text": [
            " 80%|████████  | 16/20 [04:13<01:02, 15.67s/it]"
          ]
        },
        {
          "name": "stdout",
          "output_type": "stream",
          "text": [
            "Epoch 15\n",
            " train loss: 0.7501685909749821, train acc: 0.7403246605635997\n",
            " val loss: 0.8871642206577545, val acc: 0.6990248228641267\n",
            "\n"
          ]
        },
        {
          "name": "stderr",
          "output_type": "stream",
          "text": [
            " 85%|████████▌ | 17/20 [04:29<00:47, 15.89s/it]"
          ]
        },
        {
          "name": "stdout",
          "output_type": "stream",
          "text": [
            "Epoch 16\n",
            " train loss: 0.7456418127638766, train acc: 0.739932913339988\n",
            " val loss: 0.8720413651872189, val acc: 0.7013076241980207\n",
            "\n"
          ]
        },
        {
          "name": "stderr",
          "output_type": "stream",
          "text": [
            " 90%|█████████ | 18/20 [04:45<00:31, 15.79s/it]"
          ]
        },
        {
          "name": "stdout",
          "output_type": "stream",
          "text": [
            "Epoch 17\n",
            " train loss: 0.7342202625828208, train acc: 0.7459723492862973\n",
            " val loss: 0.881604438386065, val acc: 0.701817376055616\n",
            "\n"
          ]
        },
        {
          "name": "stderr",
          "output_type": "stream",
          "text": [
            " 95%|█████████▌| 19/20 [05:01<00:15, 15.76s/it]"
          ]
        },
        {
          "name": "stdout",
          "output_type": "stream",
          "text": [
            "Epoch 18\n",
            " train loss: 0.7326076201263686, train acc: 0.7433974276513025\n",
            " val loss: 0.8542464618987226, val acc: 0.7100620569066799\n",
            "\n"
          ]
        },
        {
          "name": "stderr",
          "output_type": "stream",
          "text": [
            "100%|██████████| 20/20 [05:17<00:00, 15.85s/it]"
          ]
        },
        {
          "name": "stdout",
          "output_type": "stream",
          "text": [
            "Epoch 19\n",
            " train loss: 0.7243856804026546, train acc: 0.7485595129743573\n",
            " val loss: 0.8361915791288336, val acc: 0.714095744680851\n",
            "\n"
          ]
        },
        {
          "name": "stderr",
          "output_type": "stream",
          "text": [
            "\n"
          ]
        }
      ],
      "source": [
        "optimizer = optim.SGD(net.parameters(), lr=0.1, momentum=0.9)\n",
        "train_loss_log, train_acc_log, val_loss_log, val_acc_log = train(net, optimizer, 20, train_loader, val_loader)"
      ]
    },
    {
      "cell_type": "code",
      "execution_count": null,
      "metadata": {
        "id": "qaa9i71VOtDB"
      },
      "outputs": [],
      "source": [
        "torch.save(net.state_dict(), \"model_1_weights.pth\")"
      ]
    },
    {
      "cell_type": "markdown",
      "metadata": {
        "id": "gUb1jQW8O9Dt"
      },
      "source": [
        "Посчитайте точность на тестовой выборке:"
      ]
    },
    {
      "cell_type": "code",
      "execution_count": null,
      "metadata": {
        "colab": {
          "base_uri": "https://localhost:8080/"
        },
        "id": "Jyuc55B9_Amc",
        "outputId": "3a31c568-4e82-4e98-b36e-ae785c12e45b"
      },
      "outputs": [
        {
          "name": "stdout",
          "output_type": "stream",
          "text": [
            "Test accuracy: 0.7076\n"
          ]
        }
      ],
      "source": [
        "_, test_acc = test(net, test_loader)\n",
        "print(f'Test accuracy: {test_acc:.4f}')"
      ]
    },
    {
      "cell_type": "markdown",
      "metadata": {
        "id": "zM38Q9fwO9Dt"
      },
      "source": [
        "Если вы все сделали правильно, у вас должна была получиться точность $\\ge 67\\%$."
      ]
    },
    {
      "cell_type": "markdown",
      "metadata": {
        "id": "DHFNSKcoO9Dt"
      },
      "source": [
        "**Задание 2.2 (1 балл).** Постройте графики зависимости функции потерь и точности классификации от номера шага оптимизатора. На каждом графике расположите данные и для обучающей и для валидационной выборки, итого у вас должно получиться два графика. Обратите внимание, что на обучающей выборке эти данные считаются по каждому батчу, на валидационной же они считаются по всей выборке раз в эпоху."
      ]
    },
    {
      "cell_type": "code",
      "execution_count": null,
      "metadata": {
        "colab": {
          "base_uri": "https://localhost:8080/",
          "height": 607
        },
        "id": "LzIP0tGLO9Dt",
        "outputId": "e192ed72-629d-4fcd-fa66-6c966f0a322e"
      },
      "outputs": [
        {
          "data": {
            "image/png": "[encoded data removed]",
            "text/plain": [
              "<Figure size 1500x600 with 2 Axes>"
            ]
          },
          "metadata": {},
          "output_type": "display_data"
        }
      ],
      "source": [
        "fig, ax = plt.subplots(ncols=2, figsize=(15, 6))\n",
        "\n",
        "ax[0].plot(range(1, 20 * len(train_loader) + 1), train_loss_log, label='train')\n",
        "ax[0].plot(len(train_loader) * np.arange(1, 21), val_loss_log, label='val')\n",
        "ax[0].set_title('Loss')\n",
        "ax[0].legend()\n",
        "ax[0].grid()\n",
        "\n",
        "ax[1].plot(range(1, 20 * len(train_loader) + 1), train_acc_log, label='train')\n",
        "ax[1].plot(len(train_loader) * np.arange(1, 21), val_acc_log, label='val')\n",
        "ax[1].set_title('Accuracy')\n",
        "ax[1].legend()\n",
        "ax[1].grid()\n",
        "\n",
        "plt.tight_layout()\n",
        "plt.show()"
      ]
    },
    {
      "cell_type": "markdown",
      "metadata": {
        "id": "_ttOJPj-O9Dt"
      },
      "source": [
        "## 3. Расписание длины шага (2 балла)"
      ]
    },
    {
      "cell_type": "markdown",
      "metadata": {
        "id": "qiz3JstuO9Dt"
      },
      "source": [
        "С курса \"Машинное обучение 1\" вы уже должны знать, что сходимость стохастического градиентного спуска мы можем теоретически гарантировать только если будем определенным образом со временем уменьшать длину шага. На практике при обучении нейронных сетей такая техника оказывается очень полезной, однако теоретически обоснованными способами уменьшения длины шага фантазия не ограничивается.\n",
        "\n",
        "Одним из простейших способов является кусочно постоянная функция: на нескольких фиксированных эпохах уменьшаем длину шага в константу раз."
      ]
    },
    {
      "cell_type": "code",
      "execution_count": null,
      "metadata": {
        "colab": {
          "base_uri": "https://localhost:8080/"
        },
        "id": "V2Z0OT3nO9Du",
        "outputId": "4b121156-0c2f-4fe6-a11b-c6c254e538a6"
      },
      "outputs": [
        {
          "name": "stderr",
          "output_type": "stream",
          "text": [
            "  5%|▌         | 1/20 [00:15<05:00, 15.83s/it]"
          ]
        },
        {
          "name": "stdout",
          "output_type": "stream",
          "text": [
            "Epoch 0\n",
            " train loss: 1.5179664580869936, train acc: 0.4549980413107375\n",
            " val loss: 1.3202206345314675, val acc: 0.5342198582405739\n",
            "\n"
          ]
        },
        {
          "name": "stderr",
          "output_type": "stream",
          "text": [
            " 10%|█         | 2/20 [00:32<04:50, 16.15s/it]"
          ]
        },
        {
          "name": "stdout",
          "output_type": "stream",
          "text": [
            "Epoch 1\n",
            " train loss: 1.2062958448417007, train acc: 0.5766518673905506\n",
            " val loss: 1.1332465564950984, val acc: 0.610283688027808\n",
            "\n"
          ]
        },
        {
          "name": "stderr",
          "output_type": "stream",
          "text": [
            " 15%|█▌        | 3/20 [00:47<04:29, 15.87s/it]"
          ]
        },
        {
          "name": "stdout",
          "output_type": "stream",
          "text": [
            "Epoch 2\n",
            " train loss: 1.0818516916069296, train acc: 0.6232412183960352\n",
            " val loss: 1.0159458099527563, val acc: 0.6482491135597229\n",
            "\n"
          ]
        },
        {
          "name": "stderr",
          "output_type": "stream",
          "text": [
            " 20%|██        | 4/20 [01:03<04:12, 15.75s/it]"
          ]
        },
        {
          "name": "stdout",
          "output_type": "stream",
          "text": [
            "Epoch 3\n",
            " train loss: 1.0220685693855913, train acc: 0.6460482502114402\n",
            " val loss: 0.9890559551563669, val acc: 0.6592641845662544\n",
            "\n"
          ]
        },
        {
          "name": "stderr",
          "output_type": "stream",
          "text": [
            " 25%|██▌       | 5/20 [01:19<03:59, 15.99s/it]"
          ]
        },
        {
          "name": "stdout",
          "output_type": "stream",
          "text": [
            "Epoch 4\n",
            " train loss: 0.9678459486752149, train acc: 0.6639053930530164\n",
            " val loss: 0.9754132958168679, val acc: 0.6639627659574469\n",
            "\n"
          ]
        },
        {
          "name": "stderr",
          "output_type": "stream",
          "text": [
            " 30%|███       | 6/20 [01:35<03:42, 15.86s/it]"
          ]
        },
        {
          "name": "stdout",
          "output_type": "stream",
          "text": [
            "Epoch 5\n",
            " train loss: 0.9398102771211586, train acc: 0.6742173218639939\n",
            " val loss: 1.0002944530324733, val acc: 0.6537677305809995\n",
            "\n"
          ]
        },
        {
          "name": "stderr",
          "output_type": "stream",
          "text": [
            " 35%|███▌      | 7/20 [01:50<03:25, 15.79s/it]"
          ]
        },
        {
          "name": "stdout",
          "output_type": "stream",
          "text": [
            "Epoch 6\n",
            " train loss: 0.9072212794799037, train acc: 0.6844476365520051\n",
            " val loss: 0.9705498578700613, val acc: 0.6722517731341909\n",
            "\n"
          ]
        },
        {
          "name": "stderr",
          "output_type": "stream",
          "text": [
            " 40%|████      | 8/20 [02:06<03:09, 15.77s/it]"
          ]
        },
        {
          "name": "stdout",
          "output_type": "stream",
          "text": [
            "Epoch 7\n",
            " train loss: 0.8878076610443143, train acc: 0.6910746932247657\n",
            " val loss: 0.9554536641912258, val acc: 0.6699024824385947\n",
            "\n"
          ]
        },
        {
          "name": "stderr",
          "output_type": "stream",
          "text": [
            " 45%|████▌     | 9/20 [02:22<02:54, 15.89s/it]"
          ]
        },
        {
          "name": "stdout",
          "output_type": "stream",
          "text": [
            "Epoch 8\n",
            " train loss: 0.875216287603326, train acc: 0.6937842778793418\n",
            " val loss: 0.9131573750617656, val acc: 0.6854831561129144\n",
            "\n"
          ]
        },
        {
          "name": "stderr",
          "output_type": "stream",
          "text": [
            " 50%|█████     | 10/20 [02:38<02:38, 15.82s/it]"
          ]
        },
        {
          "name": "stdout",
          "output_type": "stream",
          "text": [
            "Epoch 9\n",
            " train loss: 0.8651313001538543, train acc: 0.6983587425849119\n",
            " val loss: 0.9417440962284169, val acc: 0.6799645390916378\n",
            "\n"
          ]
        },
        {
          "name": "stderr",
          "output_type": "stream",
          "text": [
            " 55%|█████▌    | 11/20 [02:54<02:21, 15.78s/it]"
          ]
        },
        {
          "name": "stdout",
          "output_type": "stream",
          "text": [
            "Epoch 10\n",
            " train loss: 0.7578751994007467, train acc: 0.738390408769604\n",
            " val loss: 0.8395549738660771, val acc: 0.7130319148936171\n",
            "\n"
          ]
        },
        {
          "name": "stderr",
          "output_type": "stream",
          "text": [
            " 60%|██████    | 12/20 [03:10<02:07, 15.95s/it]"
          ]
        },
        {
          "name": "stdout",
          "output_type": "stream",
          "text": [
            "Epoch 11\n",
            " train loss: 0.7408963603119092, train acc: 0.7442380517884626\n",
            " val loss: 0.8360939345461257, val acc: 0.7154255319148937\n",
            "\n"
          ]
        },
        {
          "name": "stderr",
          "output_type": "stream",
          "text": [
            " 65%|██████▌   | 13/20 [03:26<01:50, 15.84s/it]"
          ]
        },
        {
          "name": "stdout",
          "output_type": "stream",
          "text": [
            "Epoch 12\n",
            " train loss: 0.734952082527185, train acc: 0.7452745495374286\n",
            " val loss: 0.8316058891884824, val acc: 0.7170877659574468\n",
            "\n"
          ]
        },
        {
          "name": "stderr",
          "output_type": "stream",
          "text": [
            " 70%|███████   | 14/20 [03:41<01:34, 15.77s/it]"
          ]
        },
        {
          "name": "stdout",
          "output_type": "stream",
          "text": [
            "Epoch 13\n",
            " train loss: 0.7300593327778567, train acc: 0.7469557979207152\n",
            " val loss: 0.832861633630509, val acc: 0.7150265957446809\n",
            "\n"
          ]
        },
        {
          "name": "stderr",
          "output_type": "stream",
          "text": [
            " 75%|███████▌  | 15/20 [03:57<01:18, 15.75s/it]"
          ]
        },
        {
          "name": "stdout",
          "output_type": "stream",
          "text": [
            "Epoch 14\n",
            " train loss: 0.7269323628933818, train acc: 0.7492736354606461\n",
            " val loss: 0.8288072668491526, val acc: 0.719281914893617\n",
            "\n"
          ]
        },
        {
          "name": "stderr",
          "output_type": "stream",
          "text": [
            " 80%|████████  | 16/20 [04:13<01:03, 15.84s/it]"
          ]
        },
        {
          "name": "stdout",
          "output_type": "stream",
          "text": [
            "Epoch 15\n",
            " train loss: 0.7128461105187153, train acc: 0.755047825834215\n",
            " val loss: 0.822433761206079, val acc: 0.7206117021276596\n",
            "\n"
          ]
        },
        {
          "name": "stderr",
          "output_type": "stream",
          "text": [
            " 85%|████████▌ | 17/20 [04:29<00:47, 15.75s/it]"
          ]
        },
        {
          "name": "stdout",
          "output_type": "stream",
          "text": [
            "Epoch 16\n",
            " train loss: 0.7110030985619512, train acc: 0.7574268739663704\n",
            " val loss: 0.8220172496552163, val acc: 0.7204122340425532\n",
            "\n"
          ]
        },
        {
          "name": "stderr",
          "output_type": "stream",
          "text": [
            " 90%|█████████ | 18/20 [04:44<00:31, 15.70s/it]"
          ]
        },
        {
          "name": "stdout",
          "output_type": "stream",
          "text": [
            "Epoch 17\n",
            " train loss: 0.7105330870073064, train acc: 0.7550723100493115\n",
            " val loss: 0.822952948732579, val acc: 0.7222739361702127\n",
            "\n"
          ]
        },
        {
          "name": "stderr",
          "output_type": "stream",
          "text": [
            " 95%|█████████▌| 19/20 [05:00<00:15, 15.87s/it]"
          ]
        },
        {
          "name": "stdout",
          "output_type": "stream",
          "text": [
            "Epoch 18\n",
            " train loss: 0.7103697447279907, train acc: 0.7551743275940527\n",
            " val loss: 0.8214846332022484, val acc: 0.7188164893617022\n",
            "\n"
          ]
        },
        {
          "name": "stderr",
          "output_type": "stream",
          "text": [
            "100%|██████████| 20/20 [05:16<00:00, 15.83s/it]"
          ]
        },
        {
          "name": "stdout",
          "output_type": "stream",
          "text": [
            "Epoch 19\n",
            " train loss: 0.7085316706945953, train acc: 0.7559945483094378\n",
            " val loss: 0.8208569394781234, val acc: 0.7203457446808511\n",
            "\n"
          ]
        },
        {
          "name": "stderr",
          "output_type": "stream",
          "text": [
            "\n"
          ]
        }
      ],
      "source": [
        "net = BasicBlockNet().to(device)\n",
        "optimizer = optim.SGD(net.parameters(), lr=0.1, momentum=0.9)\n",
        "scheduler = optim.lr_scheduler.MultiStepLR(optimizer, milestones=[10, 15], gamma=0.1)\n",
        "tr_loss_log, tr_acc_log, val_loss_log, val_acc_log = train(net, optimizer, 20, train_loader, val_loader, scheduler)"
      ]
    },
    {
      "cell_type": "markdown",
      "metadata": {
        "id": "5Xc76KvzO9Du"
      },
      "source": [
        "Посчитайте точность на тестовой выборке:"
      ]
    },
    {
      "cell_type": "code",
      "execution_count": null,
      "metadata": {
        "colab": {
          "base_uri": "https://localhost:8080/"
        },
        "id": "1AjiYhKqO9Du",
        "outputId": "adbf265f-6ecb-45b0-f2ad-59203be7b0df"
      },
      "outputs": [
        {
          "name": "stdout",
          "output_type": "stream",
          "text": [
            "Test accuracy: 0.7153\n"
          ]
        }
      ],
      "source": [
        "_, test_acc = test(net, test_loader)\n",
        "print(f'Test accuracy: {test_acc:.4f}')"
      ]
    },
    {
      "cell_type": "markdown",
      "metadata": {
        "id": "pIr0kghxU035"
      },
      "source": [
        "Качество улучшилось практически на процент"
      ]
    },
    {
      "cell_type": "markdown",
      "metadata": {
        "id": "yE0dgLYrO9Du"
      },
      "source": [
        "**Задание 3.0 (0.5 баллов).** Здесь может возникнуть вопрос: а что будет, если мы не будем уменьшать длину шага в процессе обучения, а сразу возьмем констатную, равную значению нашей кусочно-постоянной функции на последних эпохах, то есть $0.001$ в нашем случае. Запустите обучение и проверьте, что в таком случае мы получим худшее качество на тестовой выборке."
      ]
    },
    {
      "cell_type": "code",
      "execution_count": null,
      "metadata": {
        "colab": {
          "base_uri": "https://localhost:8080/"
        },
        "id": "qZ2iB-LBO9Du",
        "outputId": "511885b7-c874-421a-ab99-4b9725a3be3b"
      },
      "outputs": [
        {
          "name": "stderr",
          "output_type": "stream",
          "text": [
            "  5%|▌         | 1/20 [00:15<04:59, 15.77s/it]"
          ]
        },
        {
          "name": "stdout",
          "output_type": "stream",
          "text": [
            "Epoch 0\n",
            " train loss: 1.8337296722575995, train acc: 0.3570612431444241\n",
            " val loss: 1.6149448176647754, val acc: 0.4371453901554676\n",
            "\n"
          ]
        },
        {
          "name": "stderr",
          "output_type": "stream",
          "text": [
            " 10%|█         | 2/20 [00:31<04:42, 15.72s/it]"
          ]
        },
        {
          "name": "stdout",
          "output_type": "stream",
          "text": [
            "Epoch 1\n",
            " train loss: 1.5306552376128202, train acc: 0.465591538322909\n",
            " val loss: 1.4449876861369355, val acc: 0.4923537234042553\n",
            "\n"
          ]
        },
        {
          "name": "stderr",
          "output_type": "stream",
          "text": [
            " 15%|█▌        | 3/20 [00:47<04:32, 16.02s/it]"
          ]
        },
        {
          "name": "stdout",
          "output_type": "stream",
          "text": [
            "Epoch 2\n",
            " train loss: 1.410147892491691, train acc: 0.5070718530109203\n",
            " val loss: 1.3658867526561655, val acc: 0.5220744680851064\n",
            "\n"
          ]
        },
        {
          "name": "stderr",
          "output_type": "stream",
          "text": [
            " 20%|██        | 4/20 [01:03<04:15, 15.95s/it]"
          ]
        },
        {
          "name": "stdout",
          "output_type": "stream",
          "text": [
            "Epoch 3\n",
            " train loss: 1.3354244372744446, train acc: 0.5330455079810928\n",
            " val loss: 1.2833478810939383, val acc: 0.5477171986661059\n",
            "\n"
          ]
        },
        {
          "name": "stderr",
          "output_type": "stream",
          "text": [
            " 25%|██▌       | 5/20 [01:19<03:56, 15.80s/it]"
          ]
        },
        {
          "name": "stdout",
          "output_type": "stream",
          "text": [
            "Epoch 4\n",
            " train loss: 1.2792698205933928, train acc: 0.5538407547818242\n",
            " val loss: 1.2544935218831326, val acc: 0.5607491135597229\n",
            "\n"
          ]
        },
        {
          "name": "stderr",
          "output_type": "stream",
          "text": [
            " 30%|███       | 6/20 [01:34<03:39, 15.67s/it]"
          ]
        },
        {
          "name": "stdout",
          "output_type": "stream",
          "text": [
            "Epoch 5\n",
            " train loss: 1.2336287967029829, train acc: 0.5692209128487916\n",
            " val loss: 1.217974296782879, val acc: 0.5693927305809995\n",
            "\n"
          ]
        },
        {
          "name": "stderr",
          "output_type": "stream",
          "text": [
            " 35%|███▌      | 7/20 [01:50<03:24, 15.72s/it]"
          ]
        },
        {
          "name": "stdout",
          "output_type": "stream",
          "text": [
            "Epoch 6\n",
            " train loss: 1.2012894543694839, train acc: 0.5789533820840951\n",
            " val loss: 1.2077150126720997, val acc: 0.5757535462683819\n",
            "\n"
          ]
        },
        {
          "name": "stderr",
          "output_type": "stream",
          "text": [
            " 40%|████      | 8/20 [02:06<03:08, 15.68s/it]"
          ]
        },
        {
          "name": "stdout",
          "output_type": "stream",
          "text": [
            "Epoch 7\n",
            " train loss: 1.1702100764244958, train acc: 0.5915953904880684\n",
            " val loss: 1.1580904001885273, val acc: 0.5919991135597229\n",
            "\n"
          ]
        },
        {
          "name": "stderr",
          "output_type": "stream",
          "text": [
            " 45%|████▌     | 9/20 [02:21<02:52, 15.64s/it]"
          ]
        },
        {
          "name": "stdout",
          "output_type": "stream",
          "text": [
            "Epoch 8\n",
            " train loss: 1.1439328239430457, train acc: 0.5997608710468578\n",
            " val loss: 1.1278681143801264, val acc: 0.6021054965384462\n",
            "\n"
          ]
        },
        {
          "name": "stderr",
          "output_type": "stream",
          "text": [
            " 50%|█████     | 10/20 [02:38<02:39, 15.91s/it]"
          ]
        },
        {
          "name": "stdout",
          "output_type": "stream",
          "text": [
            "Epoch 9\n",
            " train loss: 1.1128615303274918, train acc: 0.6113051711096407\n",
            " val loss: 1.108396716828042, val acc: 0.6124335106382979\n",
            "\n"
          ]
        },
        {
          "name": "stderr",
          "output_type": "stream",
          "text": [
            " 55%|█████▌    | 11/20 [02:53<02:21, 15.77s/it]"
          ]
        },
        {
          "name": "stdout",
          "output_type": "stream",
          "text": [
            "Epoch 10\n",
            " train loss: 1.0897862829499532, train acc: 0.6174098982235632\n",
            " val loss: 1.1175409895308475, val acc: 0.6048537234042554\n",
            "\n"
          ]
        },
        {
          "name": "stderr",
          "output_type": "stream",
          "text": [
            " 60%|██████    | 12/20 [03:08<02:05, 15.65s/it]"
          ]
        },
        {
          "name": "stdout",
          "output_type": "stream",
          "text": [
            "Epoch 11\n",
            " train loss: 1.0706872114097832, train acc: 0.6280972513027994\n",
            " val loss: 1.0571173246870649, val acc: 0.6309175531914893\n",
            "\n"
          ]
        },
        {
          "name": "stderr",
          "output_type": "stream",
          "text": [
            " 65%|██████▌   | 13/20 [03:24<01:49, 15.59s/it]"
          ]
        },
        {
          "name": "stdout",
          "output_type": "stream",
          "text": [
            "Epoch 12\n",
            " train loss: 1.044438285736105, train acc: 0.6359321951212351\n",
            " val loss: 1.0524351333050017, val acc: 0.6314273050490846\n",
            "\n"
          ]
        },
        {
          "name": "stderr",
          "output_type": "stream",
          "text": [
            " 70%|███████   | 14/20 [03:40<01:34, 15.76s/it]"
          ]
        },
        {
          "name": "stdout",
          "output_type": "stream",
          "text": [
            "Epoch 13\n",
            " train loss: 1.0268477641686224, train acc: 0.6396497127342922\n",
            " val loss: 1.0284236715195028, val acc: 0.6428413122258287\n",
            "\n"
          ]
        },
        {
          "name": "stderr",
          "output_type": "stream",
          "text": [
            " 75%|███████▌  | 15/20 [03:55<01:18, 15.67s/it]"
          ]
        },
        {
          "name": "stdout",
          "output_type": "stream",
          "text": [
            "Epoch 14\n",
            " train loss: 1.0102657062262024, train acc: 0.6477417407567584\n",
            " val loss: 1.0915519387164014, val acc: 0.6150930851063829\n",
            "\n"
          ]
        },
        {
          "name": "stderr",
          "output_type": "stream",
          "text": [
            " 80%|████████  | 16/20 [04:11<01:02, 15.62s/it]"
          ]
        },
        {
          "name": "stdout",
          "output_type": "stream",
          "text": [
            "Epoch 15\n",
            " train loss: 0.9977530628933113, train acc: 0.6538995168762626\n",
            " val loss: 1.027803833941196, val acc: 0.6392730497299357\n",
            "\n"
          ]
        },
        {
          "name": "stderr",
          "output_type": "stream",
          "text": [
            " 85%|████████▌ | 17/20 [04:27<00:47, 15.80s/it]"
          ]
        },
        {
          "name": "stdout",
          "output_type": "stream",
          "text": [
            "Epoch 16\n",
            " train loss: 0.9806024524803789, train acc: 0.6581107992576725\n",
            " val loss: 1.00595638092528, val acc: 0.6499113476022761\n",
            "\n"
          ]
        },
        {
          "name": "stderr",
          "output_type": "stream",
          "text": [
            " 90%|█████████ | 18/20 [04:43<00:31, 15.77s/it]"
          ]
        },
        {
          "name": "stdout",
          "output_type": "stream",
          "text": [
            "Epoch 17\n",
            " train loss: 0.9704837595305016, train acc: 0.6604286367976033\n",
            " val loss: 0.9661859174992176, val acc: 0.6647828015875309\n",
            "\n"
          ]
        },
        {
          "name": "stderr",
          "output_type": "stream",
          "text": [
            " 95%|█████████▌| 19/20 [04:59<00:15, 15.74s/it]"
          ]
        },
        {
          "name": "stdout",
          "output_type": "stream",
          "text": [
            "Epoch 18\n",
            " train loss: 0.9584933645764478, train acc: 0.6668353356434614\n",
            " val loss: 0.9567071207026218, val acc: 0.6668439718002969\n",
            "\n"
          ]
        },
        {
          "name": "stderr",
          "output_type": "stream",
          "text": [
            "100%|██████████| 20/20 [05:14<00:00, 15.73s/it]"
          ]
        },
        {
          "name": "stdout",
          "output_type": "stream",
          "text": [
            "Epoch 19\n",
            " train loss: 0.9470896875618581, train acc: 0.6704712392425188\n",
            " val loss: 0.9725088193061504, val acc: 0.6593306739279564\n",
            "\n"
          ]
        },
        {
          "name": "stderr",
          "output_type": "stream",
          "text": [
            "\n"
          ]
        }
      ],
      "source": [
        "net = BasicBlockNet().to(device)\n",
        "optimizer = optim.SGD(net.parameters(), lr=0.001, momentum=0.9)\n",
        "tr_loss_log, tr_acc_log, val_loss_log, val_acc_log = train(net, optimizer, 20, train_loader, val_loader)"
      ]
    },
    {
      "cell_type": "code",
      "execution_count": null,
      "metadata": {
        "colab": {
          "base_uri": "https://localhost:8080/"
        },
        "id": "SdF89rbRVJeL",
        "outputId": "0894c57d-6f81-4f1c-ab3c-8ce33f05c9e0"
      },
      "outputs": [
        {
          "name": "stdout",
          "output_type": "stream",
          "text": [
            "Test accuracy: 0.6579\n"
          ]
        }
      ],
      "source": [
        "_, test_acc = test(net, test_loader)\n",
        "print(f'Test accuracy: {test_acc:.4f}')"
      ]
    },
    {
      "cell_type": "markdown",
      "metadata": {
        "id": "xVotU378O9Du"
      },
      "source": [
        "**Задание 3.1 (1.5 балла).** Изучите, какие еще способы уменьшения длины шага представлены в <code>torch.optim.lr_scheduler</code>. Выберите несколько из них, объясните, как они устроены, и обучите модель с ними. Удалось ли добиться улучшения качества на тестовой выборке?"
      ]
    },
    {
      "cell_type": "markdown",
      "metadata": {
        "id": "PB_W1NWM4plF"
      },
      "source": [
        "__Косинусное расписание:__ $$\\eta_t = \\eta_{min} + \\frac{1}{2}(\\eta_{max} - \\eta_{min})\\left(1 + \\cos \\left(\\pi \\frac{t}{T_{max}} \\right)\\right)$$"
      ]
    },
    {
      "cell_type": "code",
      "execution_count": null,
      "metadata": {
        "colab": {
          "base_uri": "https://localhost:8080/"
        },
        "id": "nkGlzocOO9Du",
        "outputId": "fd3851f5-8964-4768-ade2-27115e490962"
      },
      "outputs": [
        {
          "name": "stderr",
          "output_type": "stream",
          "text": [
            "  5%|▌         | 1/20 [00:17<05:26, 17.16s/it]"
          ]
        },
        {
          "name": "stdout",
          "output_type": "stream",
          "text": [
            "Epoch 0\n",
            " train loss: 1.488499021726291, train acc: 0.47037411858438355\n",
            " val loss: 1.2783280121519212, val acc: 0.5535682624958931\n",
            "\n"
          ]
        },
        {
          "name": "stderr",
          "output_type": "stream",
          "text": [
            " 10%|█         | 2/20 [00:32<04:44, 15.83s/it]"
          ]
        },
        {
          "name": "stdout",
          "output_type": "stream",
          "text": [
            "Epoch 1\n",
            " train loss: 1.1729562280382928, train acc: 0.5918279903680359\n",
            " val loss: 1.1736877826934164, val acc: 0.6021498227373082\n",
            "\n"
          ]
        },
        {
          "name": "stderr",
          "output_type": "stream",
          "text": [
            " 15%|█▌        | 3/20 [00:49<04:40, 16.50s/it]"
          ]
        },
        {
          "name": "stdout",
          "output_type": "stream",
          "text": [
            "Epoch 2\n",
            " train loss: 1.059557610608542, train acc: 0.6332062876202724\n",
            " val loss: 1.0362105483704425, val acc: 0.6432845744680851\n",
            "\n"
          ]
        },
        {
          "name": "stderr",
          "output_type": "stream",
          "text": [
            " 20%|██        | 4/20 [01:05<04:19, 16.19s/it]"
          ]
        },
        {
          "name": "stdout",
          "output_type": "stream",
          "text": [
            "Epoch 3\n",
            " train loss: 1.008891890210251, train acc: 0.6506145534393338\n",
            " val loss: 0.9871866626942412, val acc: 0.6587544327086591\n",
            "\n"
          ]
        },
        {
          "name": "stderr",
          "output_type": "stream",
          "text": [
            " 25%|██▌       | 5/20 [01:20<03:56, 15.74s/it]"
          ]
        },
        {
          "name": "stdout",
          "output_type": "stream",
          "text": [
            "Epoch 4\n",
            " train loss: 0.9681660867478338, train acc: 0.6639462001144995\n",
            " val loss: 1.0011331492281974, val acc: 0.6596187944107867\n",
            "\n"
          ]
        },
        {
          "name": "stderr",
          "output_type": "stream",
          "text": [
            " 30%|███       | 6/20 [01:34<03:36, 15.43s/it]"
          ]
        },
        {
          "name": "stdout",
          "output_type": "stream",
          "text": [
            "Epoch 5\n",
            " train loss: 0.9339252022219314, train acc: 0.675637405358895\n",
            " val loss: 0.9681556800578502, val acc: 0.6633865249917862\n",
            "\n"
          ]
        },
        {
          "name": "stderr",
          "output_type": "stream",
          "text": [
            " 35%|███▌      | 7/20 [01:50<03:20, 15.44s/it]"
          ]
        },
        {
          "name": "stdout",
          "output_type": "stream",
          "text": [
            "Epoch 6\n",
            " train loss: 0.901556768626574, train acc: 0.6858187517256797\n",
            " val loss: 0.9288285237677554, val acc: 0.6798758866939139\n",
            "\n"
          ]
        },
        {
          "name": "stderr",
          "output_type": "stream",
          "text": [
            " 40%|████      | 8/20 [02:05<03:03, 15.25s/it]"
          ]
        },
        {
          "name": "stdout",
          "output_type": "stream",
          "text": [
            "Epoch 7\n",
            " train loss: 0.8753236176980697, train acc: 0.6943841407678245\n",
            " val loss: 0.9179868994875157, val acc: 0.6869459220703612\n",
            "\n"
          ]
        },
        {
          "name": "stderr",
          "output_type": "stream",
          "text": [
            " 45%|████▌     | 9/20 [02:20<02:46, 15.17s/it]"
          ]
        },
        {
          "name": "stdout",
          "output_type": "stream",
          "text": [
            "Epoch 8\n",
            " train loss: 0.8479044040225759, train acc: 0.705781535757961\n",
            " val loss: 0.9199392661135247, val acc: 0.6830230497299357\n",
            "\n"
          ]
        },
        {
          "name": "stderr",
          "output_type": "stream",
          "text": [
            " 50%|█████     | 10/20 [02:35<02:31, 15.11s/it]"
          ]
        },
        {
          "name": "stdout",
          "output_type": "stream",
          "text": [
            "Epoch 9\n",
            " train loss: 0.8313677569738908, train acc: 0.710539631804339\n",
            " val loss: 0.9200530858750039, val acc: 0.6879875888215735\n",
            "\n"
          ]
        },
        {
          "name": "stderr",
          "output_type": "stream",
          "text": [
            " 55%|█████▌    | 11/20 [02:50<02:17, 15.26s/it]"
          ]
        },
        {
          "name": "stdout",
          "output_type": "stream",
          "text": [
            "Epoch 10\n",
            " train loss: 0.8083856410910486, train acc: 0.7199823714697383\n",
            " val loss: 0.8881704751481401, val acc: 0.6975842199427016\n",
            "\n"
          ]
        },
        {
          "name": "stderr",
          "output_type": "stream",
          "text": [
            " 60%|██████    | 12/20 [03:05<02:01, 15.18s/it]"
          ]
        },
        {
          "name": "stdout",
          "output_type": "stream",
          "text": [
            "Epoch 11\n",
            " train loss: 0.7870503209626653, train acc: 0.7263645861004998\n",
            " val loss: 0.8806904526467019, val acc: 0.7011746454746165\n",
            "\n"
          ]
        },
        {
          "name": "stderr",
          "output_type": "stream",
          "text": [
            " 65%|██████▌   | 13/20 [03:20<01:45, 15.09s/it]"
          ]
        },
        {
          "name": "stdout",
          "output_type": "stream",
          "text": [
            "Epoch 12\n",
            " train loss: 0.7684370409527034, train acc: 0.7311675698927159\n",
            " val loss: 0.8385255088197424, val acc: 0.7158687944107868\n",
            "\n"
          ]
        },
        {
          "name": "stderr",
          "output_type": "stream",
          "text": [
            " 70%|███████   | 14/20 [03:35<01:30, 15.05s/it]"
          ]
        },
        {
          "name": "stdout",
          "output_type": "stream",
          "text": [
            "Epoch 13\n",
            " train loss: 0.7499986038674384, train acc: 0.7399247519712779\n",
            " val loss: 0.8579463494584916, val acc: 0.7064051420130628\n",
            "\n"
          ]
        },
        {
          "name": "stderr",
          "output_type": "stream",
          "text": [
            " 75%|███████▌  | 15/20 [03:50<01:15, 15.16s/it]"
          ]
        },
        {
          "name": "stdout",
          "output_type": "stream",
          "text": [
            "Epoch 14\n",
            " train loss: 0.7329652931071287, train acc: 0.7467231980407478\n",
            " val loss: 0.8174739402659396, val acc: 0.7234264186088075\n",
            "\n"
          ]
        },
        {
          "name": "stderr",
          "output_type": "stream",
          "text": [
            " 80%|████████  | 16/20 [04:05<01:00, 15.09s/it]"
          ]
        },
        {
          "name": "stdout",
          "output_type": "stream",
          "text": [
            "Epoch 15\n",
            " train loss: 0.7173845544593643, train acc: 0.7525912444813814\n",
            " val loss: 0.8238201616926396, val acc: 0.7228280143534883\n",
            "\n"
          ]
        },
        {
          "name": "stderr",
          "output_type": "stream",
          "text": [
            " 85%|████████▌ | 17/20 [04:20<00:45, 15.01s/it]"
          ]
        },
        {
          "name": "stdout",
          "output_type": "stream",
          "text": [
            "Epoch 16\n",
            " train loss: 0.7066663041629129, train acc: 0.7575982633630798\n",
            " val loss: 0.8198941237114845, val acc: 0.7189937944107867\n",
            "\n"
          ]
        },
        {
          "name": "stderr",
          "output_type": "stream",
          "text": [
            " 90%|█████████ | 18/20 [04:35<00:29, 14.98s/it]"
          ]
        },
        {
          "name": "stdout",
          "output_type": "stream",
          "text": [
            "Epoch 17\n",
            " train loss: 0.6944634521574163, train acc: 0.7621441630602319\n",
            " val loss: 0.8035283182529693, val acc: 0.7277925531914894\n",
            "\n"
          ]
        },
        {
          "name": "stderr",
          "output_type": "stream",
          "text": [
            " 95%|█████████▌| 19/20 [04:51<00:15, 15.28s/it]"
          ]
        },
        {
          "name": "stdout",
          "output_type": "stream",
          "text": [
            "Epoch 18\n",
            " train loss: 0.6865890880389449, train acc: 0.7646578742119686\n",
            " val loss: 0.8021595286562088, val acc: 0.7279698582405739\n",
            "\n"
          ]
        },
        {
          "name": "stderr",
          "output_type": "stream",
          "text": [
            "100%|██████████| 20/20 [05:06<00:00, 15.34s/it]"
          ]
        },
        {
          "name": "stdout",
          "output_type": "stream",
          "text": [
            "Epoch 19\n",
            " train loss: 0.6836367491394336, train acc: 0.7646497128432586\n",
            " val loss: 0.7987225027794533, val acc: 0.7289007093044038\n",
            "\n"
          ]
        },
        {
          "name": "stderr",
          "output_type": "stream",
          "text": [
            "\n"
          ]
        }
      ],
      "source": [
        "net = BasicBlockNet().to(device)\n",
        "optimizer = optim.SGD(net.parameters(), lr=0.1, momentum=0.9)\n",
        "scheduler = optim.lr_scheduler.CosineAnnealingLR(optimizer, T_max=20, eta_min=1e-6)\n",
        "tr_loss_log, tr_acc_log, val_loss_log, val_acc_log = train(net, optimizer, 20, train_loader, val_loader, scheduler)"
      ]
    },
    {
      "cell_type": "code",
      "execution_count": null,
      "metadata": {
        "colab": {
          "base_uri": "https://localhost:8080/"
        },
        "id": "lzkq--al8cCO",
        "outputId": "5dec31a8-5adb-44d0-e19d-e0bfd6747294"
      },
      "outputs": [
        {
          "name": "stdout",
          "output_type": "stream",
          "text": [
            "test accuracy: 0.7218\n"
          ]
        }
      ],
      "source": [
        "_, test_acc = test(net, test_loader)\n",
        "print(f'test accuracy: {test_acc:.4f}')"
      ]
    },
    {
      "cell_type": "markdown",
      "metadata": {
        "id": "dCzNSX3p9HA0"
      },
      "source": [
        "__Экспоненциальное расписание:__ $$\\eta_t = \\gamma^t \\eta_0$$"
      ]
    },
    {
      "cell_type": "code",
      "execution_count": null,
      "metadata": {
        "colab": {
          "base_uri": "https://localhost:8080/"
        },
        "id": "TlV7tezi9AL1",
        "outputId": "03431e92-dd8c-4194-c10f-ffb22bf96d6d"
      },
      "outputs": [
        {
          "name": "stderr",
          "output_type": "stream",
          "text": [
            "  5%|▌         | 1/20 [00:15<04:51, 15.37s/it]"
          ]
        },
        {
          "name": "stdout",
          "output_type": "stream",
          "text": [
            "Epoch 0\n",
            " train loss: 1.5185230520351278, train acc: 0.4569853422192812\n",
            " val loss: 1.3172165480065854, val acc: 0.530673758907521\n",
            "\n"
          ]
        },
        {
          "name": "stderr",
          "output_type": "stream",
          "text": [
            " 10%|█         | 2/20 [00:30<04:32, 15.13s/it]"
          ]
        },
        {
          "name": "stdout",
          "output_type": "stream",
          "text": [
            "Epoch 1\n",
            " train loss: 1.1982177190850378, train acc: 0.5769864848152593\n",
            " val loss: 1.1671176403126817, val acc: 0.5906914893617021\n",
            "\n"
          ]
        },
        {
          "name": "stderr",
          "output_type": "stream",
          "text": [
            " 15%|█▌        | 3/20 [00:48<04:44, 16.74s/it]"
          ]
        },
        {
          "name": "stdout",
          "output_type": "stream",
          "text": [
            "Epoch 2\n",
            " train loss: 1.0554624527856244, train acc: 0.6301212784795046\n",
            " val loss: 1.061230015247426, val acc: 0.631161347602276\n",
            "\n"
          ]
        },
        {
          "name": "stderr",
          "output_type": "stream",
          "text": [
            " 20%|██        | 4/20 [01:05<04:29, 16.84s/it]"
          ]
        },
        {
          "name": "stdout",
          "output_type": "stream",
          "text": [
            "Epoch 3\n",
            " train loss: 0.9739877480257582, train acc: 0.6589024549646395\n",
            " val loss: 0.9850954352541172, val acc: 0.6568262412192973\n",
            "\n"
          ]
        },
        {
          "name": "stderr",
          "output_type": "stream",
          "text": [
            " 25%|██▌       | 5/20 [01:21<04:05, 16.34s/it]"
          ]
        },
        {
          "name": "stdout",
          "output_type": "stream",
          "text": [
            "Epoch 4\n",
            " train loss: 0.9291735104058735, train acc: 0.6784734918822753\n",
            " val loss: 0.9562309767337556, val acc: 0.6675088654173181\n",
            "\n"
          ]
        },
        {
          "name": "stderr",
          "output_type": "stream",
          "text": [
            " 30%|███       | 6/20 [01:36<03:41, 15.84s/it]"
          ]
        },
        {
          "name": "stdout",
          "output_type": "stream",
          "text": [
            "Epoch 5\n",
            " train loss: 0.8896898270960918, train acc: 0.69253558378115\n",
            " val loss: 0.9456848451431762, val acc: 0.675221631374765\n",
            "\n"
          ]
        },
        {
          "name": "stderr",
          "output_type": "stream",
          "text": [
            " 35%|███▌      | 7/20 [01:51<03:21, 15.47s/it]"
          ]
        },
        {
          "name": "stdout",
          "output_type": "stream",
          "text": [
            "Epoch 6\n",
            " train loss: 0.868089034526832, train acc: 0.6978119287020109\n",
            " val loss: 0.9190855807446419, val acc: 0.6835106382978723\n",
            "\n"
          ]
        },
        {
          "name": "stderr",
          "output_type": "stream",
          "text": [
            " 40%|████      | 8/20 [02:05<03:03, 15.26s/it]"
          ]
        },
        {
          "name": "stdout",
          "output_type": "stream",
          "text": [
            "Epoch 7\n",
            " train loss: 0.844306161569285, train acc: 0.7082299556331181\n",
            " val loss: 0.886767015558608, val acc: 0.6940159574468086\n",
            "\n"
          ]
        },
        {
          "name": "stderr",
          "output_type": "stream",
          "text": [
            " 45%|████▌     | 9/20 [02:21<02:48, 15.32s/it]"
          ]
        },
        {
          "name": "stdout",
          "output_type": "stream",
          "text": [
            "Epoch 8\n",
            " train loss: 0.8286043096068136, train acc: 0.712918679827528\n",
            " val loss: 0.8943380424316894, val acc: 0.6928413122258288\n",
            "\n"
          ]
        },
        {
          "name": "stderr",
          "output_type": "stream",
          "text": [
            " 50%|█████     | 10/20 [02:36<02:31, 15.15s/it]"
          ]
        },
        {
          "name": "stdout",
          "output_type": "stream",
          "text": [
            "Epoch 9\n",
            " train loss: 0.8137618390472106, train acc: 0.7187091930474834\n",
            " val loss: 0.8713717290695677, val acc: 0.6967641845662543\n",
            "\n"
          ]
        },
        {
          "name": "stderr",
          "output_type": "stream",
          "text": [
            " 55%|█████▌    | 11/20 [02:51<02:18, 15.34s/it]"
          ]
        },
        {
          "name": "stdout",
          "output_type": "stream",
          "text": [
            "Epoch 10\n",
            " train loss: 0.8018293384006298, train acc: 0.7249526639743087\n",
            " val loss: 0.8595992940537474, val acc: 0.7028812058428501\n",
            "\n"
          ]
        },
        {
          "name": "stderr",
          "output_type": "stream",
          "text": [
            " 60%|██████    | 12/20 [03:06<02:01, 15.20s/it]"
          ]
        },
        {
          "name": "stdout",
          "output_type": "stream",
          "text": [
            "Epoch 11\n",
            " train loss: 0.7930423595024855, train acc: 0.7281437712352062\n",
            " val loss: 0.859573773120312, val acc: 0.7027482271194458\n",
            "\n"
          ]
        },
        {
          "name": "stderr",
          "output_type": "stream",
          "text": [
            " 65%|██████▌   | 13/20 [03:22<01:46, 15.24s/it]"
          ]
        },
        {
          "name": "stdout",
          "output_type": "stream",
          "text": [
            "Epoch 12\n",
            " train loss: 0.7862598590375737, train acc: 0.7285640833582695\n",
            " val loss: 0.8554769680855122, val acc: 0.7043218085106383\n",
            "\n"
          ]
        },
        {
          "name": "stderr",
          "output_type": "stream",
          "text": [
            " 70%|███████   | 14/20 [03:36<01:30, 15.09s/it]"
          ]
        },
        {
          "name": "stdout",
          "output_type": "stream",
          "text": [
            "Epoch 13\n",
            " train loss: 0.7839536353591591, train acc: 0.7286538587409792\n",
            " val loss: 0.852462980341404, val acc: 0.7059175531914894\n",
            "\n"
          ]
        },
        {
          "name": "stderr",
          "output_type": "stream",
          "text": [
            " 75%|███████▌  | 15/20 [03:51<01:15, 15.04s/it]"
          ]
        },
        {
          "name": "stdout",
          "output_type": "stream",
          "text": [
            "Epoch 14\n",
            " train loss: 0.7777570691470472, train acc: 0.732759042893293\n",
            " val loss: 0.850182465796775, val acc: 0.7059618795171697\n",
            "\n"
          ]
        },
        {
          "name": "stderr",
          "output_type": "stream",
          "text": [
            " 80%|████████  | 16/20 [04:06<00:59, 14.97s/it]"
          ]
        },
        {
          "name": "stdout",
          "output_type": "stream",
          "text": [
            "Epoch 15\n",
            " train loss: 0.7738170212975803, train acc: 0.733069176102905\n",
            " val loss: 0.847915492159255, val acc: 0.7073359930768927\n",
            "\n"
          ]
        },
        {
          "name": "stderr",
          "output_type": "stream",
          "text": [
            " 85%|████████▌ | 17/20 [04:22<00:46, 15.34s/it]"
          ]
        },
        {
          "name": "stdout",
          "output_type": "stream",
          "text": [
            "Epoch 16\n",
            " train loss: 0.7725279081129287, train acc: 0.7345178246062242\n",
            " val loss: 0.8466918405066145, val acc: 0.707779255319149\n",
            "\n"
          ]
        },
        {
          "name": "stderr",
          "output_type": "stream",
          "text": [
            " 90%|█████████ | 18/20 [04:37<00:30, 15.20s/it]"
          ]
        },
        {
          "name": "stdout",
          "output_type": "stream",
          "text": [
            "Epoch 17\n",
            " train loss: 0.7699751887722469, train acc: 0.7350401541650622\n",
            " val loss: 0.8456510200145396, val acc: 0.7055851063829788\n",
            "\n"
          ]
        },
        {
          "name": "stderr",
          "output_type": "stream",
          "text": [
            " 95%|█████████▌| 19/20 [04:52<00:15, 15.10s/it]"
          ]
        },
        {
          "name": "stdout",
          "output_type": "stream",
          "text": [
            "Epoch 18\n",
            " train loss: 0.7681232476692095, train acc: 0.7362562026794476\n",
            " val loss: 0.8442868935300949, val acc: 0.7086657803109352\n",
            "\n"
          ]
        },
        {
          "name": "stderr",
          "output_type": "stream",
          "text": [
            "100%|██████████| 20/20 [05:07<00:00, 15.37s/it]"
          ]
        },
        {
          "name": "stdout",
          "output_type": "stream",
          "text": [
            "Epoch 19\n",
            " train loss: 0.7683534174340299, train acc: 0.7350891225952553\n",
            " val loss: 0.8440179486223992, val acc: 0.7081338654173182\n",
            "\n"
          ]
        },
        {
          "name": "stderr",
          "output_type": "stream",
          "text": [
            "\n"
          ]
        }
      ],
      "source": [
        "net = BasicBlockNet().to(device)\n",
        "optimizer = optim.SGD(net.parameters(), lr=0.1, momentum=0.9)\n",
        "scheduler = optim.lr_scheduler.ExponentialLR(optimizer, gamma=0.75)\n",
        "tr_loss_log, tr_acc_log, val_loss_log, val_acc_log = train(net, optimizer, 20, train_loader, val_loader, scheduler)"
      ]
    },
    {
      "cell_type": "code",
      "execution_count": null,
      "metadata": {
        "colab": {
          "base_uri": "https://localhost:8080/"
        },
        "id": "XCfsok53_JLL",
        "outputId": "56cdeba5-f774-4a6e-8df5-7e3b81feab84"
      },
      "outputs": [
        {
          "name": "stdout",
          "output_type": "stream",
          "text": [
            "test accuracy: 0.7050\n"
          ]
        }
      ],
      "source": [
        "_, test_acc = test(net, test_loader)\n",
        "print(f'test accuracy: {test_acc:.4f}')"
      ]
    },
    {
      "cell_type": "markdown",
      "metadata": {
        "id": "_at7kvyu_MpC"
      },
      "source": [
        "__Вывод:__ косинусное расписание показало лучший результат, в то время как экспоненциальное затухание показало качество примерно такое же, как и обучение с фиксированным lr"
      ]
    },
    {
      "cell_type": "markdown",
      "metadata": {
        "id": "7xFXgl_3_E--"
      },
      "source": [
        "## 4. Аугментации данных (2 балла)"
      ]
    },
    {
      "cell_type": "markdown",
      "metadata": {
        "id": "5G0Easo9O9Du"
      },
      "source": [
        "Еще одной стандартной техникой, применяющейся в глубинном обучении, а особенно часто в компьютерном зрении, являются аугментации данных. Суть аугментаций состоит в том, что мы можем некоторым синтетическим образом видоизменять объекты обучающей выборки, тем самым расширяя ее, а также делая итоговую модель более устойчивой к таким изменениям.\n",
        "\n",
        "Простейшая аугментация, которую можно применить к картинкам — разворот картинки по горизонтальной оси. То есть при обучении модели с вероятностью $0.5$ мы будем разворачивать картинку из обучающей выборки."
      ]
    },
    {
      "cell_type": "code",
      "execution_count": null,
      "metadata": {
        "colab": {
          "base_uri": "https://localhost:8080/",
          "height": 369
        },
        "id": "SzeFpgtfO9Du",
        "outputId": "26cd5014-f0b9-48ec-9563-c093dd9f36f7"
      },
      "outputs": [
        {
          "data": {
            "image/png": "[encoded data removed]",
            "text/plain": [
              "<Figure size 640x480 with 1 Axes>"
            ]
          },
          "metadata": {},
          "output_type": "display_data"
        },
        {
          "data": {
            "image/png": "[encoded data removed]",
            "text/plain": [
              "<Figure size 640x480 with 1 Axes>"
            ]
          },
          "metadata": {},
          "output_type": "display_data"
        }
      ],
      "source": [
        "dataiter = iter(train_loader)\n",
        "images, labels = next(dataiter)\n",
        "\n",
        "imshow(torchvision.utils.make_grid(images[:4]))\n",
        "\n",
        "imshow(torchvision.utils.make_grid(transforms.functional.hflip(images[:4])))"
      ]
    },
    {
      "cell_type": "markdown",
      "metadata": {
        "id": "BR4a-XJQO9Du"
      },
      "source": [
        "Наиболее удобным способом работы с аугментациями в PyTorch является их задание в списке <code>transforms</code>, который затем передается в загрузчик данных. Обучим нашу сеть, применяя горизонтальные повороты:"
      ]
    },
    {
      "cell_type": "code",
      "execution_count": null,
      "metadata": {
        "colab": {
          "base_uri": "https://localhost:8080/"
        },
        "id": "na0ScBf-_AqX",
        "outputId": "bf02f436-9abb-4553-e6e6-f3faef5855dc",
        "scrolled": true
      },
      "outputs": [
        {
          "name": "stderr",
          "output_type": "stream",
          "text": [
            "  5%|▌         | 1/20 [00:18<05:47, 18.29s/it]"
          ]
        },
        {
          "name": "stdout",
          "output_type": "stream",
          "text": [
            "Epoch 0\n",
            " train loss: 1.4864023490187455, train acc: 0.47022313271841576\n",
            " val loss: 1.2572403593266264, val acc: 0.5500443263256803\n",
            "\n"
          ]
        },
        {
          "name": "stderr",
          "output_type": "stream",
          "text": [
            " 10%|█         | 2/20 [00:36<05:25, 18.08s/it]"
          ]
        },
        {
          "name": "stdout",
          "output_type": "stream",
          "text": [
            "Epoch 1\n",
            " train loss: 1.1521775393425002, train acc: 0.5983163032278936\n",
            " val loss: 1.1060570990785639, val acc: 0.6096852837724889\n",
            "\n"
          ]
        },
        {
          "name": "stderr",
          "output_type": "stream",
          "text": [
            " 15%|█▌        | 3/20 [00:54<05:08, 18.13s/it]"
          ]
        },
        {
          "name": "stdout",
          "output_type": "stream",
          "text": [
            "Epoch 2\n",
            " train loss: 1.0506304482873223, train acc: 0.6354588339925902\n",
            " val loss: 1.0161174507851296, val acc: 0.6492021276595744\n",
            "\n"
          ]
        },
        {
          "name": "stderr",
          "output_type": "stream",
          "text": [
            " 20%|██        | 4/20 [01:12<04:49, 18.08s/it]"
          ]
        },
        {
          "name": "stdout",
          "output_type": "stream",
          "text": [
            "Epoch 3\n",
            " train loss: 0.989804809773426, train acc: 0.6572008031595777\n",
            " val loss: 1.0767002491240805, val acc: 0.6313829787234042\n",
            "\n"
          ]
        },
        {
          "name": "stderr",
          "output_type": "stream",
          "text": [
            " 25%|██▌       | 5/20 [01:30<04:31, 18.07s/it]"
          ]
        },
        {
          "name": "stdout",
          "output_type": "stream",
          "text": [
            "Epoch 4\n",
            " train loss: 0.9539921237956017, train acc: 0.6720423087123543\n",
            " val loss: 0.9741166297425615, val acc: 0.667974290949233\n",
            "\n"
          ]
        },
        {
          "name": "stderr",
          "output_type": "stream",
          "text": [
            " 30%|███       | 6/20 [01:48<04:12, 18.07s/it]"
          ]
        },
        {
          "name": "stdout",
          "output_type": "stream",
          "text": [
            "Epoch 5\n",
            " train loss: 0.9233057476048931, train acc: 0.684031405113297\n",
            " val loss: 0.9514339223821112, val acc: 0.667686170212766\n",
            "\n"
          ]
        },
        {
          "name": "stderr",
          "output_type": "stream",
          "text": [
            " 35%|███▌      | 7/20 [02:07<03:57, 18.24s/it]"
          ]
        },
        {
          "name": "stdout",
          "output_type": "stream",
          "text": [
            "Epoch 6\n",
            " train loss: 0.9051408338372406, train acc: 0.6861248041419704\n",
            " val loss: 0.922302996097727, val acc: 0.6802304965384462\n",
            "\n"
          ]
        },
        {
          "name": "stderr",
          "output_type": "stream",
          "text": [
            " 40%|████      | 8/20 [02:24<03:36, 18.07s/it]"
          ]
        },
        {
          "name": "stdout",
          "output_type": "stream",
          "text": [
            "Epoch 7\n",
            " train loss: 0.8869142303519101, train acc: 0.6933843692870201\n",
            " val loss: 0.9357578964943581, val acc: 0.6770611702127659\n",
            "\n"
          ]
        },
        {
          "name": "stderr",
          "output_type": "stream",
          "text": [
            " 45%|████▌     | 9/20 [02:42<03:18, 18.06s/it]"
          ]
        },
        {
          "name": "stdout",
          "output_type": "stream",
          "text": [
            "Epoch 8\n",
            " train loss: 0.86734957527199, train acc: 0.700729629239391\n",
            " val loss: 0.9172966089654476, val acc: 0.6886746454746165\n",
            "\n"
          ]
        },
        {
          "name": "stderr",
          "output_type": "stream",
          "text": [
            " 50%|█████     | 10/20 [03:00<02:59, 17.95s/it]"
          ]
        },
        {
          "name": "stdout",
          "output_type": "stream",
          "text": [
            "Epoch 9\n",
            " train loss: 0.8507019071082093, train acc: 0.7069894229036363\n",
            " val loss: 0.9138707297913572, val acc: 0.6839760638297873\n",
            "\n"
          ]
        },
        {
          "name": "stderr",
          "output_type": "stream",
          "text": [
            " 55%|█████▌    | 11/20 [03:18<02:40, 17.83s/it]"
          ]
        },
        {
          "name": "stdout",
          "output_type": "stream",
          "text": [
            "Epoch 10\n",
            " train loss: 0.7623059170446622, train acc: 0.7367214025483488\n",
            " val loss: 0.791628224925792, val acc: 0.7301418441407224\n",
            "\n"
          ]
        },
        {
          "name": "stderr",
          "output_type": "stream",
          "text": [
            " 60%|██████    | 12/20 [03:36<02:23, 17.89s/it]"
          ]
        },
        {
          "name": "stdout",
          "output_type": "stream",
          "text": [
            "Epoch 11\n",
            " train loss: 0.7450421315224559, train acc: 0.7425119156593378\n",
            " val loss: 0.7865947756361454, val acc: 0.7316489361702128\n",
            "\n"
          ]
        },
        {
          "name": "stderr",
          "output_type": "stream",
          "text": [
            " 65%|██████▌   | 13/20 [03:53<02:04, 17.73s/it]"
          ]
        },
        {
          "name": "stdout",
          "output_type": "stream",
          "text": [
            "Epoch 12\n",
            " train loss: 0.740439354992, train acc: 0.7464865174764254\n",
            " val loss: 0.7904649624165069, val acc: 0.729654255319149\n",
            "\n"
          ]
        },
        {
          "name": "stderr",
          "output_type": "stream",
          "text": [
            " 70%|███████   | 14/20 [04:11<01:46, 17.83s/it]"
          ]
        },
        {
          "name": "stdout",
          "output_type": "stream",
          "text": [
            "Epoch 13\n",
            " train loss: 0.7363395113395816, train acc: 0.7470618961498114\n",
            " val loss: 0.7867115505198214, val acc: 0.7311170212765957\n",
            "\n"
          ]
        },
        {
          "name": "stderr",
          "output_type": "stream",
          "text": [
            " 75%|███████▌  | 15/20 [04:28<01:28, 17.67s/it]"
          ]
        },
        {
          "name": "stdout",
          "output_type": "stream",
          "text": [
            "Epoch 14\n",
            " train loss: 0.7318361520876179, train acc: 0.7475719835466179\n",
            " val loss: 0.7804979297708958, val acc: 0.7319148936170212\n",
            "\n"
          ]
        },
        {
          "name": "stderr",
          "output_type": "stream",
          "text": [
            " 80%|████████  | 16/20 [04:46<01:11, 17.76s/it]"
          ]
        },
        {
          "name": "stdout",
          "output_type": "stream",
          "text": [
            "Epoch 15\n",
            " train loss: 0.7175386443979344, train acc: 0.7543541068786677\n",
            " val loss: 0.7676263943631598, val acc: 0.7375664893617021\n",
            "\n"
          ]
        },
        {
          "name": "stderr",
          "output_type": "stream",
          "text": [
            " 85%|████████▌ | 17/20 [05:04<00:52, 17.65s/it]"
          ]
        },
        {
          "name": "stdout",
          "output_type": "stream",
          "text": [
            "Epoch 16\n",
            " train loss: 0.7176883484916233, train acc: 0.7519383324783506\n",
            " val loss: 0.7699470082496075, val acc: 0.7381870569066799\n",
            "\n"
          ]
        },
        {
          "name": "stderr",
          "output_type": "stream",
          "text": [
            " 90%|█████████ | 18/20 [05:22<00:35, 17.81s/it]"
          ]
        },
        {
          "name": "stdout",
          "output_type": "stream",
          "text": [
            "Epoch 17\n",
            " train loss: 0.7169761108523967, train acc: 0.7544030753088607\n",
            " val loss: 0.773413670443474, val acc: 0.7381205675449777\n",
            "\n"
          ]
        },
        {
          "name": "stderr",
          "output_type": "stream",
          "text": [
            " 95%|█████████▌| 19/20 [05:40<00:17, 17.85s/it]"
          ]
        },
        {
          "name": "stdout",
          "output_type": "stream",
          "text": [
            "Epoch 18\n",
            " train loss: 0.7160286220161745, train acc: 0.7538970684874429\n",
            " val loss: 0.7670521427976325, val acc: 0.739849290949233\n",
            "\n"
          ]
        },
        {
          "name": "stderr",
          "output_type": "stream",
          "text": [
            "100%|██████████| 20/20 [05:58<00:00, 17.90s/it]"
          ]
        },
        {
          "name": "stdout",
          "output_type": "stream",
          "text": [
            "Epoch 19\n",
            " train loss: 0.715972090443048, train acc: 0.7539337947556044\n",
            " val loss: 0.767893947185354, val acc: 0.7397384752618505\n",
            "\n"
          ]
        },
        {
          "name": "stderr",
          "output_type": "stream",
          "text": [
            "\n"
          ]
        }
      ],
      "source": [
        "transform = transforms.Compose(\n",
        "        [transforms.RandomHorizontalFlip(),\n",
        "         transforms.ToTensor(),\n",
        "         transforms.Normalize((0.5, 0.5, 0.5), (0.5, 0.5, 0.5))]\n",
        ")\n",
        "\n",
        "train_loader, val_loader, test_loader = get_cifar10_data(batch_size=64, transform_train=transform)\n",
        "\n",
        "net = BasicBlockNet().to(device)\n",
        "optimizer = optim.SGD(net.parameters(), lr=0.1, momentum=0.9)\n",
        "scheduler = optim.lr_scheduler.MultiStepLR(optimizer, milestones=[10, 15], gamma=0.1)\n",
        "tr_loss_log, tr_acc_log, val_loss_log, val_acc_log = train(net, optimizer, 20, train_loader, val_loader, scheduler)"
      ]
    },
    {
      "cell_type": "markdown",
      "metadata": {
        "id": "v3ZIqDQqO9Dv"
      },
      "source": [
        "Посчитайте точность на тестовой выборке:"
      ]
    },
    {
      "cell_type": "code",
      "execution_count": null,
      "metadata": {
        "colab": {
          "base_uri": "https://localhost:8080/"
        },
        "id": "nNJizMkM_Auh",
        "outputId": "c327a560-69e4-47a6-e6c2-ba3340780d7d"
      },
      "outputs": [
        {
          "name": "stdout",
          "output_type": "stream",
          "text": [
            "test accuracy: 0.7270\n"
          ]
        }
      ],
      "source": [
        "_, test_acc = test(net, test_loader)\n",
        "print(f'test accuracy: {test_acc:.4f}')"
      ]
    },
    {
      "cell_type": "markdown",
      "metadata": {
        "id": "KndehSCHO9Dv"
      },
      "source": [
        "**Задание 4.1 (2 балла).** Изучите, какие еще способы аугментаций изображений представлены в <code>torchvision.transforms</code>. Выберите несколько из них, объясните, как они устроены, и обучите модель с ними (по отдельности и вместе). Удалось ли добиться улучшения качества на тестовой выборке?"
      ]
    },
    {
      "cell_type": "markdown",
      "metadata": {
        "id": "0TwUqwnGGfeC"
      },
      "source": [
        "__RandomResizedCrop:__ вырезается случайная область изображения, а затем скейлится до прежнего размера"
      ]
    },
    {
      "cell_type": "code",
      "execution_count": null,
      "metadata": {
        "colab": {
          "base_uri": "https://localhost:8080/"
        },
        "id": "Np4rgvdZ_QRF",
        "outputId": "8276b64e-7408-4f11-bc67-0cf9c4b98652"
      },
      "outputs": [
        {
          "name": "stderr",
          "output_type": "stream",
          "text": [
            "  5%|▌         | 1/20 [00:31<09:50, 31.08s/it]"
          ]
        },
        {
          "name": "stdout",
          "output_type": "stream",
          "text": [
            "Epoch 0\n",
            " train loss: 1.5354585165951327, train acc: 0.45182325678726\n",
            " val loss: 1.3339734820609397, val acc: 0.5218528369639782\n",
            "\n"
          ]
        },
        {
          "name": "stderr",
          "output_type": "stream",
          "text": [
            " 10%|█         | 2/20 [00:55<08:11, 27.30s/it]"
          ]
        },
        {
          "name": "stdout",
          "output_type": "stream",
          "text": [
            "Epoch 1\n",
            " train loss: 1.2361381178146307, train acc: 0.5658216898140568\n",
            " val loss: 1.1874596387781995, val acc: 0.5878546099713509\n",
            "\n"
          ]
        },
        {
          "name": "stderr",
          "output_type": "stream",
          "text": [
            " 15%|█▌        | 3/20 [01:20<07:22, 26.02s/it]"
          ]
        },
        {
          "name": "stdout",
          "output_type": "stream",
          "text": [
            "Epoch 2\n",
            " train loss: 1.1282954401246372, train acc: 0.6066205275995857\n",
            " val loss: 1.0741210480953785, val acc: 0.620877659574468\n",
            "\n"
          ]
        },
        {
          "name": "stderr",
          "output_type": "stream",
          "text": [
            " 20%|██        | 4/20 [01:45<06:53, 25.87s/it]"
          ]
        },
        {
          "name": "stdout",
          "output_type": "stream",
          "text": [
            "Epoch 3\n",
            " train loss: 1.0776117724082153, train acc: 0.6242940389913876\n",
            " val loss: 1.1249346677293168, val acc: 0.6085992908224146\n",
            "\n"
          ]
        },
        {
          "name": "stderr",
          "output_type": "stream",
          "text": [
            " 25%|██▌       | 5/20 [02:10<06:19, 25.31s/it]"
          ]
        },
        {
          "name": "stdout",
          "output_type": "stream",
          "text": [
            "Epoch 4\n",
            " train loss: 1.0458002295311015, train acc: 0.634010185489271\n",
            " val loss: 1.0406899160527168, val acc: 0.6405363476022761\n",
            "\n"
          ]
        },
        {
          "name": "stderr",
          "output_type": "stream",
          "text": [
            " 30%|███       | 6/20 [02:34<05:49, 24.96s/it]"
          ]
        },
        {
          "name": "stdout",
          "output_type": "stream",
          "text": [
            "Epoch 5\n",
            " train loss: 1.0214702990416853, train acc: 0.6413962522851919\n",
            " val loss: 1.1290238946042161, val acc: 0.6029698582405739\n",
            "\n"
          ]
        },
        {
          "name": "stderr",
          "output_type": "stream",
          "text": [
            " 35%|███▌      | 7/20 [02:58<05:19, 24.60s/it]"
          ]
        },
        {
          "name": "stdout",
          "output_type": "stream",
          "text": [
            "Epoch 6\n",
            " train loss: 0.9924605653316491, train acc: 0.6528793418647166\n",
            " val loss: 1.107403050584996, val acc: 0.6166223404255319\n",
            "\n"
          ]
        },
        {
          "name": "stderr",
          "output_type": "stream",
          "text": [
            " 40%|████      | 8/20 [03:22<04:53, 24.44s/it]"
          ]
        },
        {
          "name": "stdout",
          "output_type": "stream",
          "text": [
            "Epoch 7\n",
            " train loss: 0.9737990715386009, train acc: 0.6606000261943127\n",
            " val loss: 0.9970422257768347, val acc: 0.6595301420130628\n",
            "\n"
          ]
        },
        {
          "name": "stderr",
          "output_type": "stream",
          "text": [
            " 45%|████▌     | 9/20 [03:46<04:27, 24.31s/it]"
          ]
        },
        {
          "name": "stdout",
          "output_type": "stream",
          "text": [
            "Epoch 8\n",
            " train loss: 0.9615809760538272, train acc: 0.6637340036563071\n",
            " val loss: 1.04828875369214, val acc: 0.6392952127659575\n",
            "\n"
          ]
        },
        {
          "name": "stderr",
          "output_type": "stream",
          "text": [
            " 50%|█████     | 10/20 [04:11<04:04, 24.46s/it]"
          ]
        },
        {
          "name": "stdout",
          "output_type": "stream",
          "text": [
            "Epoch 9\n",
            " train loss: 0.9428546492970622, train acc: 0.6683329524680073\n",
            " val loss: 1.042600622582943, val acc: 0.6386968085106383\n",
            "\n"
          ]
        },
        {
          "name": "stderr",
          "output_type": "stream",
          "text": [
            " 55%|█████▌    | 11/20 [04:35<03:39, 24.35s/it]"
          ]
        },
        {
          "name": "stdout",
          "output_type": "stream",
          "text": [
            "Epoch 10\n",
            " train loss: 0.8447008113865443, train acc: 0.7065323845124114\n",
            " val loss: 0.9003896591511179, val acc: 0.688874113559723\n",
            "\n"
          ]
        },
        {
          "name": "stderr",
          "output_type": "stream",
          "text": [
            " 60%|██████    | 12/20 [04:59<03:14, 24.36s/it]"
          ]
        },
        {
          "name": "stdout",
          "output_type": "stream",
          "text": [
            "Epoch 11\n",
            " train loss: 0.823273469859111, train acc: 0.7143591669621372\n",
            " val loss: 0.900232422605474, val acc: 0.6910460994598714\n",
            "\n"
          ]
        },
        {
          "name": "stderr",
          "output_type": "stream",
          "text": [
            " 65%|██████▌   | 13/20 [05:23<02:50, 24.33s/it]"
          ]
        },
        {
          "name": "stdout",
          "output_type": "stream",
          "text": [
            "Epoch 12\n",
            " train loss: 0.8185366492384748, train acc: 0.7139796617915904\n",
            " val loss: 0.8941325819238704, val acc: 0.6928191489361702\n",
            "\n"
          ]
        },
        {
          "name": "stderr",
          "output_type": "stream",
          "text": [
            " 70%|███████   | 14/20 [05:48<02:25, 24.26s/it]"
          ]
        },
        {
          "name": "stdout",
          "output_type": "stream",
          "text": [
            "Epoch 13\n",
            " train loss: 0.8112605628191444, train acc: 0.7181052494746457\n",
            " val loss: 0.8897599732622187, val acc: 0.697163120736467\n",
            "\n"
          ]
        },
        {
          "name": "stderr",
          "output_type": "stream",
          "text": [
            " 75%|███████▌  | 15/20 [06:12<02:00, 24.17s/it]"
          ]
        },
        {
          "name": "stdout",
          "output_type": "stream",
          "text": [
            "Epoch 14\n",
            " train loss: 0.8151106978792159, train acc: 0.7155466505770709\n",
            " val loss: 0.885609863666778, val acc: 0.6969858156873825\n",
            "\n"
          ]
        },
        {
          "name": "stderr",
          "output_type": "stream",
          "text": [
            " 80%|████████  | 16/20 [06:36<01:36, 24.22s/it]"
          ]
        },
        {
          "name": "stdout",
          "output_type": "stream",
          "text": [
            "Epoch 15\n",
            " train loss: 0.7994440314538735, train acc: 0.7237366153509569\n",
            " val loss: 0.876893617244477, val acc: 0.7010859930768926\n",
            "\n"
          ]
        },
        {
          "name": "stderr",
          "output_type": "stream",
          "text": [
            " 85%|████████▌ | 17/20 [07:00<01:12, 24.22s/it]"
          ]
        },
        {
          "name": "stdout",
          "output_type": "stream",
          "text": [
            "Epoch 16\n",
            " train loss: 0.7980008555177797, train acc: 0.723018412180313\n",
            " val loss: 0.8713231068976381, val acc: 0.7013297872340426\n",
            "\n"
          ]
        },
        {
          "name": "stderr",
          "output_type": "stream",
          "text": [
            " 90%|█████████ | 18/20 [07:24<00:48, 24.18s/it]"
          ]
        },
        {
          "name": "stdout",
          "output_type": "stream",
          "text": [
            "Epoch 17\n",
            " train loss: 0.7970934034047659, train acc: 0.7216350549535734\n",
            " val loss: 0.8758428946454474, val acc: 0.6993794327086591\n",
            "\n"
          ]
        },
        {
          "name": "stderr",
          "output_type": "stream",
          "text": [
            " 95%|█████████▌| 19/20 [07:48<00:24, 24.13s/it]"
          ]
        },
        {
          "name": "stdout",
          "output_type": "stream",
          "text": [
            "Epoch 18\n",
            " train loss: 0.7921152963716761, train acc: 0.7241854923734717\n",
            " val loss: 0.877823732254353, val acc: 0.6988253547790203\n",
            "\n"
          ]
        },
        {
          "name": "stderr",
          "output_type": "stream",
          "text": [
            "100%|██████████| 20/20 [08:12<00:00, 24.64s/it]"
          ]
        },
        {
          "name": "stdout",
          "output_type": "stream",
          "text": [
            "Epoch 19\n",
            " train loss: 0.793736787066817, train acc: 0.7256994320444041\n",
            " val loss: 0.8735798336089926, val acc: 0.7007535462683819\n",
            "\n"
          ]
        },
        {
          "name": "stderr",
          "output_type": "stream",
          "text": [
            "\n"
          ]
        }
      ],
      "source": [
        "transform = transforms.Compose(\n",
        "        [transforms.RandomResizedCrop(size=32, scale=(0.8, 1.0), ratio=(0.9, 1.1)),\n",
        "         transforms.ToTensor(),\n",
        "         transforms.Normalize((0.5, 0.5, 0.5), (0.5, 0.5, 0.5))]\n",
        ")\n",
        "\n",
        "train_loader, val_loader, test_loader = get_cifar10_data(batch_size=64, transform_train=transform)\n",
        "\n",
        "net = BasicBlockNet().to(device)\n",
        "optimizer = optim.SGD(net.parameters(), lr=0.1, momentum=0.9)\n",
        "scheduler = optim.lr_scheduler.MultiStepLR(optimizer, milestones=[10, 15], gamma=0.1)\n",
        "tr_loss_log, tr_acc_log, val_loss_log, val_acc_log = train(net, optimizer, 20, train_loader, val_loader, scheduler)"
      ]
    },
    {
      "cell_type": "code",
      "execution_count": null,
      "metadata": {
        "colab": {
          "base_uri": "https://localhost:8080/"
        },
        "id": "gV_VFYnnHGv9",
        "outputId": "3e91d6e1-131d-408a-ab84-34f033b31ae2"
      },
      "outputs": [
        {
          "name": "stdout",
          "output_type": "stream",
          "text": [
            "test accuracy: 0.6948\n"
          ]
        }
      ],
      "source": [
        "_, test_acc = test(net, test_loader)\n",
        "print(f'test accuracy: {test_acc:.4f}')"
      ]
    },
    {
      "cell_type": "markdown",
      "metadata": {
        "id": "k7VvlBFxHHDb"
      },
      "source": [
        "__ColorJitter:__ случайным образом изменяются цвета и прозрачность пикселей"
      ]
    },
    {
      "cell_type": "code",
      "execution_count": null,
      "metadata": {
        "colab": {
          "base_uri": "https://localhost:8080/"
        },
        "id": "JyCbdj4kK5Qp",
        "outputId": "12ef4931-44a8-4e06-ea22-1bff1cbdaf8a"
      },
      "outputs": [
        {
          "name": "stderr",
          "output_type": "stream",
          "text": [
            "  5%|▌         | 1/20 [00:41<13:08, 41.52s/it]"
          ]
        },
        {
          "name": "stdout",
          "output_type": "stream",
          "text": [
            "Epoch 0\n",
            " train loss: 1.5092596212296425, train acc: 0.4630900692242373\n",
            " val loss: 1.2880774667922488, val acc: 0.5396941489361702\n",
            "\n"
          ]
        },
        {
          "name": "stderr",
          "output_type": "stream",
          "text": [
            " 10%|█         | 2/20 [01:21<12:14, 40.79s/it]"
          ]
        },
        {
          "name": "stdout",
          "output_type": "stream",
          "text": [
            "Epoch 1\n",
            " train loss: 1.2176469427140146, train acc: 0.5743625947500713\n",
            " val loss: 1.1143726501059026, val acc: 0.6140514186088075\n",
            "\n"
          ]
        },
        {
          "name": "stderr",
          "output_type": "stream",
          "text": [
            " 15%|█▌        | 3/20 [02:01<11:23, 40.23s/it]"
          ]
        },
        {
          "name": "stdout",
          "output_type": "stream",
          "text": [
            "Epoch 2\n",
            " train loss: 1.075768530368805, train acc: 0.6229678114545847\n",
            " val loss: 1.0934756055791328, val acc: 0.6212101063829787\n",
            "\n"
          ]
        },
        {
          "name": "stderr",
          "output_type": "stream",
          "text": [
            " 20%|██        | 4/20 [02:40<10:37, 39.85s/it]"
          ]
        },
        {
          "name": "stdout",
          "output_type": "stream",
          "text": [
            "Epoch 3\n",
            " train loss: 1.016247040937762, train acc: 0.6487496736062728\n",
            " val loss: 1.0434172871265006, val acc: 0.6402039007937654\n",
            "\n"
          ]
        },
        {
          "name": "stderr",
          "output_type": "stream",
          "text": [
            " 25%|██▌       | 5/20 [03:20<09:57, 39.83s/it]"
          ]
        },
        {
          "name": "stdout",
          "output_type": "stream",
          "text": [
            "Epoch 4\n",
            " train loss: 0.9749837583118208, train acc: 0.6609958541022795\n",
            " val loss: 1.0048285796287213, val acc: 0.6568705675449777\n",
            "\n"
          ]
        },
        {
          "name": "stderr",
          "output_type": "stream",
          "text": [
            " 30%|███       | 6/20 [03:59<09:14, 39.62s/it]"
          ]
        },
        {
          "name": "stdout",
          "output_type": "stream",
          "text": [
            "Epoch 5\n",
            " train loss: 0.9505165824070709, train acc: 0.6741765148025108\n",
            " val loss: 0.9825396144643743, val acc: 0.6577127659574468\n",
            "\n"
          ]
        },
        {
          "name": "stderr",
          "output_type": "stream",
          "text": [
            " 35%|███▌      | 7/20 [04:38<08:33, 39.46s/it]"
          ]
        },
        {
          "name": "stdout",
          "output_type": "stream",
          "text": [
            "Epoch 6\n",
            " train loss: 0.9190609562985422, train acc: 0.68326423351246\n",
            " val loss: 0.9875186686820172, val acc: 0.6621010638297873\n",
            "\n"
          ]
        },
        {
          "name": "stderr",
          "output_type": "stream",
          "text": [
            " 40%|████      | 8/20 [05:18<07:54, 39.52s/it]"
          ]
        },
        {
          "name": "stdout",
          "output_type": "stream",
          "text": [
            "Epoch 7\n",
            " train loss: 0.9017392303215738, train acc: 0.688010087505773\n",
            " val loss: 0.9734721597204817, val acc: 0.6669547872340426\n",
            "\n"
          ]
        },
        {
          "name": "stderr",
          "output_type": "stream",
          "text": [
            " 45%|████▌     | 9/20 [05:59<07:21, 40.12s/it]"
          ]
        },
        {
          "name": "stdout",
          "output_type": "stream",
          "text": [
            "Epoch 8\n",
            " train loss: 0.8922582798291822, train acc: 0.6921968856720864\n",
            " val loss: 0.9379953206853664, val acc: 0.6786790781832756\n",
            "\n"
          ]
        },
        {
          "name": "stderr",
          "output_type": "stream",
          "text": [
            " 50%|█████     | 10/20 [06:39<06:39, 39.92s/it]"
          ]
        },
        {
          "name": "stdout",
          "output_type": "stream",
          "text": [
            "Epoch 9\n",
            " train loss: 0.8735540994124613, train acc: 0.6978731392942356\n",
            " val loss: 0.9191787864299531, val acc: 0.6870789007937654\n",
            "\n"
          ]
        },
        {
          "name": "stderr",
          "output_type": "stream",
          "text": [
            " 55%|█████▌    | 11/20 [07:19<05:58, 39.84s/it]"
          ]
        },
        {
          "name": "stdout",
          "output_type": "stream",
          "text": [
            "Epoch 10\n",
            " train loss: 0.7708530628702976, train acc: 0.7365540938359946\n",
            " val loss: 0.8493812347980256, val acc: 0.709286347602276\n",
            "\n"
          ]
        },
        {
          "name": "stderr",
          "output_type": "stream",
          "text": [
            " 60%|██████    | 12/20 [07:59<05:20, 40.07s/it]"
          ]
        },
        {
          "name": "stdout",
          "output_type": "stream",
          "text": [
            "Epoch 11\n",
            " train loss: 0.7537357173519553, train acc: 0.7392881628146337\n",
            " val loss: 0.8415107042231458, val acc: 0.7129432624958931\n",
            "\n"
          ]
        },
        {
          "name": "stderr",
          "output_type": "stream",
          "text": [
            " 65%|██████▌   | 13/20 [08:39<04:40, 40.09s/it]"
          ]
        },
        {
          "name": "stdout",
          "output_type": "stream",
          "text": [
            "Epoch 12\n",
            " train loss: 0.7475647420181435, train acc: 0.7433688627518509\n",
            " val loss: 0.8483112200777582, val acc: 0.7104831561129143\n",
            "\n"
          ]
        },
        {
          "name": "stderr",
          "output_type": "stream",
          "text": [
            " 70%|███████   | 14/20 [09:19<04:00, 40.04s/it]"
          ]
        },
        {
          "name": "stdout",
          "output_type": "stream",
          "text": [
            "Epoch 13\n",
            " train loss: 0.7469683661648299, train acc: 0.7441237921906564\n",
            " val loss: 0.8442464794250245, val acc: 0.7139627659574468\n",
            "\n"
          ]
        },
        {
          "name": "stderr",
          "output_type": "stream",
          "text": [
            " 75%|███████▌  | 15/20 [10:00<03:20, 40.14s/it]"
          ]
        },
        {
          "name": "stdout",
          "output_type": "stream",
          "text": [
            "Epoch 14\n",
            " train loss: 0.7410644463908738, train acc: 0.7453194372832667\n",
            " val loss: 0.8358288943767548, val acc: 0.7140070922831272\n",
            "\n"
          ]
        },
        {
          "name": "stderr",
          "output_type": "stream",
          "text": [
            " 80%|████████  | 16/20 [10:41<02:41, 40.45s/it]"
          ]
        },
        {
          "name": "stdout",
          "output_type": "stream",
          "text": [
            "Epoch 15\n",
            " train loss: 0.723779809812741, train acc: 0.7529177005373799\n",
            " val loss: 0.8326383131615659, val acc: 0.7149157803109352\n",
            "\n"
          ]
        },
        {
          "name": "stderr",
          "output_type": "stream",
          "text": [
            " 85%|████████▌ | 17/20 [11:21<02:01, 40.33s/it]"
          ]
        },
        {
          "name": "stdout",
          "output_type": "stream",
          "text": [
            "Epoch 16\n",
            " train loss: 0.7228289235117666, train acc: 0.7521790938359946\n",
            " val loss: 0.8305609302317842, val acc: 0.7177304965384463\n",
            "\n"
          ]
        },
        {
          "name": "stderr",
          "output_type": "stream",
          "text": [
            " 90%|█████████ | 18/20 [12:01<01:20, 40.19s/it]"
          ]
        },
        {
          "name": "stdout",
          "output_type": "stream",
          "text": [
            "Epoch 17\n",
            " train loss: 0.7204517819109957, train acc: 0.7543296226635712\n",
            " val loss: 0.8305796658739131, val acc: 0.7183953901554676\n",
            "\n"
          ]
        },
        {
          "name": "stderr",
          "output_type": "stream",
          "text": [
            " 95%|█████████▌| 19/20 [12:42<00:40, 40.44s/it]"
          ]
        },
        {
          "name": "stdout",
          "output_type": "stream",
          "text": [
            "Epoch 18\n",
            " train loss: 0.721894593844684, train acc: 0.7536685492918304\n",
            " val loss: 0.8289210319519043, val acc: 0.7166666667512123\n",
            "\n"
          ]
        },
        {
          "name": "stderr",
          "output_type": "stream",
          "text": [
            "100%|██████████| 20/20 [13:22<00:00, 40.14s/it]"
          ]
        },
        {
          "name": "stdout",
          "output_type": "stream",
          "text": [
            "Epoch 19\n",
            " train loss: 0.7226650740481382, train acc: 0.7519832202241887\n",
            " val loss: 0.8268806825292871, val acc: 0.7181072696726373\n",
            "\n"
          ]
        },
        {
          "name": "stderr",
          "output_type": "stream",
          "text": [
            "\n"
          ]
        }
      ],
      "source": [
        "transform = transforms.Compose(\n",
        "        [transforms.ColorJitter(brightness=0.1, contrast=0.1, saturation=0.1, hue=0.05),\n",
        "         transforms.ToTensor(),\n",
        "         transforms.Normalize((0.5, 0.5, 0.5), (0.5, 0.5, 0.5))]\n",
        ")\n",
        "\n",
        "train_loader, val_loader, test_loader = get_cifar10_data(batch_size=64, transform_train=transform)\n",
        "\n",
        "net = BasicBlockNet().to(device)\n",
        "optimizer = optim.SGD(net.parameters(), lr=0.1, momentum=0.9)\n",
        "scheduler = optim.lr_scheduler.MultiStepLR(optimizer, milestones=[10, 15], gamma=0.1)\n",
        "tr_loss_log, tr_acc_log, val_loss_log, val_acc_log = train(net, optimizer, 20, train_loader, val_loader, scheduler)"
      ]
    },
    {
      "cell_type": "code",
      "execution_count": null,
      "metadata": {
        "colab": {
          "base_uri": "https://localhost:8080/"
        },
        "id": "kLLrEgxSOcSH",
        "outputId": "c89367df-ef20-4eb9-8dd0-e67320adbc87"
      },
      "outputs": [
        {
          "name": "stdout",
          "output_type": "stream",
          "text": [
            "test accuracy: 0.7158\n"
          ]
        }
      ],
      "source": [
        "_, test_acc = test(net, test_loader)\n",
        "print(f'test accuracy: {test_acc:.4f}')"
      ]
    },
    {
      "cell_type": "markdown",
      "metadata": {
        "id": "efZCeKDuO8ab"
      },
      "source": [
        "__Вместе:__"
      ]
    },
    {
      "cell_type": "code",
      "execution_count": null,
      "metadata": {
        "colab": {
          "base_uri": "https://localhost:8080/"
        },
        "id": "f17U7UfBPDSS",
        "outputId": "0b8c88df-11e2-4a53-ae5c-af4af90bdcaa"
      },
      "outputs": [
        {
          "name": "stderr",
          "output_type": "stream",
          "text": [
            "  5%|▌         | 1/20 [00:45<14:15, 45.01s/it]"
          ]
        },
        {
          "name": "stdout",
          "output_type": "stream",
          "text": [
            "Epoch 0\n",
            " train loss: 1.4962948075814047, train acc: 0.46846435100548445\n",
            " val loss: 1.261135431807092, val acc: 0.5518838652904997\n",
            "\n"
          ]
        },
        {
          "name": "stderr",
          "output_type": "stream",
          "text": [
            " 10%|█         | 2/20 [01:29<13:26, 44.83s/it]"
          ]
        },
        {
          "name": "stdout",
          "output_type": "stream",
          "text": [
            "Epoch 1\n",
            " train loss: 1.177607525746173, train acc: 0.5887103356434614\n",
            " val loss: 1.0763033937900623, val acc: 0.6256427305809995\n",
            "\n"
          ]
        },
        {
          "name": "stderr",
          "output_type": "stream",
          "text": [
            " 15%|█▌        | 3/20 [02:12<12:26, 43.93s/it]"
          ]
        },
        {
          "name": "stdout",
          "output_type": "stream",
          "text": [
            "Epoch 2\n",
            " train loss: 1.0701702038810283, train acc: 0.6294683664764739\n",
            " val loss: 1.104733072696848, val acc: 0.6111480497299356\n",
            "\n"
          ]
        },
        {
          "name": "stderr",
          "output_type": "stream",
          "text": [
            " 20%|██        | 4/20 [02:54<11:31, 43.19s/it]"
          ]
        },
        {
          "name": "stdout",
          "output_type": "stream",
          "text": [
            "Epoch 3\n",
            " train loss: 1.0274203999386844, train acc: 0.6446975385685072\n",
            " val loss: 1.0399225803131753, val acc: 0.6350398936170213\n",
            "\n"
          ]
        },
        {
          "name": "stderr",
          "output_type": "stream",
          "text": [
            " 25%|██▌       | 5/20 [03:37<10:47, 43.14s/it]"
          ]
        },
        {
          "name": "stdout",
          "output_type": "stream",
          "text": [
            "Epoch 4\n",
            " train loss: 0.9905206893436216, train acc: 0.6563520175447412\n",
            " val loss: 1.003565964039336, val acc: 0.6533244680851064\n",
            "\n"
          ]
        },
        {
          "name": "stderr",
          "output_type": "stream",
          "text": [
            " 30%|███       | 6/20 [04:19<09:57, 42.66s/it]"
          ]
        },
        {
          "name": "stdout",
          "output_type": "stream",
          "text": [
            "Epoch 5\n",
            " train loss: 0.9542131758477178, train acc: 0.6718260316787734\n",
            " val loss: 0.9827055111844489, val acc: 0.659064716481148\n",
            "\n"
          ]
        },
        {
          "name": "stderr",
          "output_type": "stream",
          "text": [
            " 35%|███▌      | 7/20 [05:01<09:13, 42.60s/it]"
          ]
        },
        {
          "name": "stdout",
          "output_type": "stream",
          "text": [
            "Epoch 6\n",
            " train loss: 0.9408412709750467, train acc: 0.6727890768914162\n",
            " val loss: 0.975413050042822, val acc: 0.6652039007937655\n",
            "\n"
          ]
        },
        {
          "name": "stderr",
          "output_type": "stream",
          "text": [
            " 40%|████      | 8/20 [05:44<08:31, 42.63s/it]"
          ]
        },
        {
          "name": "stdout",
          "output_type": "stream",
          "text": [
            "Epoch 7\n",
            " train loss: 0.9221148287683344, train acc: 0.683011230101751\n",
            " val loss: 0.9877705256989662, val acc: 0.6603058510638298\n",
            "\n"
          ]
        },
        {
          "name": "stderr",
          "output_type": "stream",
          "text": [
            " 45%|████▌     | 9/20 [06:27<07:48, 42.60s/it]"
          ]
        },
        {
          "name": "stdout",
          "output_type": "stream",
          "text": [
            "Epoch 8\n",
            " train loss: 0.8959509362032471, train acc: 0.6918622682473777\n",
            " val loss: 0.9591992721912709, val acc: 0.6692154255319149\n",
            "\n"
          ]
        },
        {
          "name": "stderr",
          "output_type": "stream",
          "text": [
            " 50%|█████     | 10/20 [07:09<07:04, 42.44s/it]"
          ]
        },
        {
          "name": "stdout",
          "output_type": "stream",
          "text": [
            "Epoch 9\n",
            " train loss: 0.8817603516186395, train acc: 0.697024353679399\n",
            " val loss: 0.9232619960257348, val acc: 0.6836436170212766\n",
            "\n"
          ]
        },
        {
          "name": "stderr",
          "output_type": "stream",
          "text": [
            " 55%|█████▌    | 11/20 [07:52<06:23, 42.57s/it]"
          ]
        },
        {
          "name": "stdout",
          "output_type": "stream",
          "text": [
            "Epoch 10\n",
            " train loss: 0.7967203857693855, train acc: 0.7269154806677558\n",
            " val loss: 0.8214306652545929, val acc: 0.7165115249917863\n",
            "\n"
          ]
        },
        {
          "name": "stderr",
          "output_type": "stream",
          "text": [
            " 60%|██████    | 12/20 [08:33<05:38, 42.35s/it]"
          ]
        },
        {
          "name": "stdout",
          "output_type": "stream",
          "text": [
            "Epoch 11\n",
            " train loss: 0.7786750997769113, train acc: 0.7331548708012596\n",
            " val loss: 0.8251479902166001, val acc: 0.7167109930768926\n",
            "\n"
          ]
        },
        {
          "name": "stderr",
          "output_type": "stream",
          "text": [
            " 65%|██████▌   | 13/20 [09:15<04:55, 42.26s/it]"
          ]
        },
        {
          "name": "stdout",
          "output_type": "stream",
          "text": [
            "Epoch 12\n",
            " train loss: 0.7732376493309272, train acc: 0.7366275464812841\n",
            " val loss: 0.8130673411044669, val acc: 0.7201019505237011\n",
            "\n"
          ]
        },
        {
          "name": "stderr",
          "output_type": "stream",
          "text": [
            " 70%|███████   | 14/20 [09:58<04:14, 42.34s/it]"
          ]
        },
        {
          "name": "stdout",
          "output_type": "stream",
          "text": [
            "Epoch 13\n",
            " train loss: 0.7684478430686965, train acc: 0.7367418060790905\n",
            " val loss: 0.8197783930504575, val acc: 0.7204787234042553\n",
            "\n"
          ]
        },
        {
          "name": "stderr",
          "output_type": "stream",
          "text": [
            " 75%|███████▌  | 15/20 [10:39<03:30, 42.08s/it]"
          ]
        },
        {
          "name": "stdout",
          "output_type": "stream",
          "text": [
            "Epoch 14\n",
            " train loss: 0.7631616330887762, train acc: 0.7391412575240545\n",
            " val loss: 0.8038031692200519, val acc: 0.726285461161999\n",
            "\n"
          ]
        },
        {
          "name": "stderr",
          "output_type": "stream",
          "text": [
            " 80%|████████  | 16/20 [11:21<02:48, 42.05s/it]"
          ]
        },
        {
          "name": "stdout",
          "output_type": "stream",
          "text": [
            "Epoch 15\n",
            " train loss: 0.751944899559021, train acc: 0.743907515048109\n",
            " val loss: 0.8036682060424317, val acc: 0.7238253547790202\n",
            "\n"
          ]
        },
        {
          "name": "stderr",
          "output_type": "stream",
          "text": [
            " 85%|████████▌ | 17/20 [12:03<02:05, 41.78s/it]"
          ]
        },
        {
          "name": "stdout",
          "output_type": "stream",
          "text": [
            "Epoch 16\n",
            " train loss: 0.752018411699989, train acc: 0.7419161334552102\n",
            " val loss: 0.8020317943806344, val acc: 0.7234929079705096\n",
            "\n"
          ]
        },
        {
          "name": "stderr",
          "output_type": "stream",
          "text": [
            " 90%|█████████ | 18/20 [12:44<01:23, 41.80s/it]"
          ]
        },
        {
          "name": "stdout",
          "output_type": "stream",
          "text": [
            "Epoch 17\n",
            " train loss: 0.7489756868787831, train acc: 0.7453235179676216\n",
            " val loss: 0.8024556381905332, val acc: 0.7230274824385947\n",
            "\n"
          ]
        },
        {
          "name": "stderr",
          "output_type": "stream",
          "text": [
            " 95%|█████████▌| 19/20 [13:26<00:41, 41.67s/it]"
          ]
        },
        {
          "name": "stdout",
          "output_type": "stream",
          "text": [
            "Epoch 18\n",
            " train loss: 0.7511251289295322, train acc: 0.7444420867689785\n",
            " val loss: 0.8023620159068006, val acc: 0.7277703901554676\n",
            "\n"
          ]
        },
        {
          "name": "stderr",
          "output_type": "stream",
          "text": [
            "100%|██████████| 20/20 [14:09<00:00, 42.46s/it]"
          ]
        },
        {
          "name": "stdout",
          "output_type": "stream",
          "text": [
            "Epoch 19\n",
            " train loss: 0.7492607540469719, train acc: 0.7433525399054645\n",
            " val loss: 0.7974536690306157, val acc: 0.7279033688788719\n",
            "\n"
          ]
        },
        {
          "name": "stderr",
          "output_type": "stream",
          "text": [
            "\n"
          ]
        }
      ],
      "source": [
        "transform = transforms.Compose(\n",
        "        [transforms.RandomHorizontalFlip(),\n",
        "         transforms.ColorJitter(brightness=0.1, contrast=0.1, saturation=0.1, hue=0.05),\n",
        "         transforms.ToTensor(),\n",
        "         transforms.Normalize((0.5, 0.5, 0.5), (0.5, 0.5, 0.5))]\n",
        ")\n",
        "\n",
        "train_loader, val_loader, test_loader = get_cifar10_data(batch_size=64, transform_train=transform)\n",
        "\n",
        "net = BasicBlockNet().to(device)\n",
        "optimizer = optim.SGD(net.parameters(), lr=0.1, momentum=0.9)\n",
        "scheduler = optim.lr_scheduler.MultiStepLR(optimizer, milestones=[10, 15], gamma=0.1)\n",
        "tr_loss_log, tr_acc_log, val_loss_log, val_acc_log = train(net, optimizer, 20, train_loader, val_loader, scheduler)"
      ]
    },
    {
      "cell_type": "code",
      "execution_count": null,
      "metadata": {
        "colab": {
          "base_uri": "https://localhost:8080/"
        },
        "id": "V0S8kpAPPNvD",
        "outputId": "c39998ad-3791-4a4f-cc41-552d53ac3e29"
      },
      "outputs": [
        {
          "name": "stdout",
          "output_type": "stream",
          "text": [
            "test accuracy: 0.7239\n"
          ]
        }
      ],
      "source": [
        "_, test_acc = test(net, test_loader)\n",
        "print(f'test accuracy: {test_acc:.4f}')"
      ]
    },
    {
      "cell_type": "markdown",
      "metadata": {
        "id": "yUE19vLGS37Q"
      },
      "source": [
        "__Вывод:__ аугментациями кроме горизонтального флипа не удалось улучшить качество модели на тестовой выборке, так как в датасете картинки слишком маленького разрешения, и итак малая информация портится ещё и аугментациями"
      ]
    },
    {
      "cell_type": "markdown",
      "metadata": {
        "id": "HCENjLw5O9Dv"
      },
      "source": [
        "## Бонус. Логирование в wandb (2 балла)"
      ]
    },
    {
      "cell_type": "markdown",
      "metadata": {
        "id": "xOyzc1mnO9Dv"
      },
      "source": [
        "На практике специалиста по глубинному обучению часто встречаются ситуации, когда нейросеть учится на каком-то удаленном сервере. И обычно вам хочется отслеживать прогресс обучения, особенно когда время обучения модели исчисляется днями или неделями. Для таких целей существует несколько инструментов. Вероятно, самый популярный из них — [wandb](https://wandb.ai/site).\n",
        "\n",
        "Ваша задача состоит в том, чтобы разобраться как им пользоваться, и повторить задания 2.1 и 2.2 с его использованием. Обучение вы можете запускать в этом же ноутбуке, но теперь вам необходимо через wandb логировать значения функции потерь и точности на обучающей выборке и на валидационной. Результатом работы должны быть ваш код и публичная ссылка на страничку с графиками, идентичными графикам в задании 2.2."
      ]
    },
    {
      "cell_type": "code",
      "execution_count": null,
      "metadata": {
        "colab": {
          "base_uri": "https://localhost:8080/",
          "height": 281
        },
        "id": "iuAmufI4WmLf",
        "outputId": "2bcb4883-fcbc-49e0-bf6a-235b02a02a5a"
      },
      "outputs": [
        {
          "data": {
            "application/javascript": "\n        window._wandbApiKey = new Promise((resolve, reject) => {\n            function loadScript(url) {\n            return new Promise(function(resolve, reject) {\n                let newScript = document.createElement(\"script\");\n                newScript.onerror = reject;\n                newScript.onload = resolve;\n                document.body.appendChild(newScript);\n                newScript.src = url;\n            });\n            }\n            loadScript(\"https://cdn.jsdelivr.net/npm/postmate/build/postmate.min.js\").then(() => {\n            const iframe = document.createElement('iframe')\n            iframe.style.cssText = \"width:0;height:0;border:none\"\n            document.body.appendChild(iframe)\n            const handshake = new Postmate({\n                container: iframe,\n                url: 'https://wandb.ai/authorize'\n            });\n            const timeout = setTimeout(() => reject(\"Couldn't auto authenticate\"), 5000)\n            handshake.then(function(child) {\n                child.on('authorize', data => {\n                    clearTimeout(timeout)\n                    resolve(data)\n                });\n            });\n            })\n        });\n    ",
            "text/plain": [
              "<IPython.core.display.Javascript object>"
            ]
          },
          "metadata": {},
          "output_type": "display_data"
        },
        {
          "name": "stderr",
          "output_type": "stream",
          "text": [
            "\u001b[34m\u001b[1mwandb\u001b[0m: Logging into wandb.ai. (Learn how to deploy a W&B server locally: https://wandb.me/wandb-server)\n",
            "\u001b[34m\u001b[1mwandb\u001b[0m: You can find your API key in your browser here: https://wandb.ai/authorize?ref=models\n",
            "wandb: Paste an API key from your profile and hit enter:"
          ]
        },
        {
          "name": "stdout",
          "output_type": "stream",
          "text": [
            " ··········\n"
          ]
        },
        {
          "name": "stderr",
          "output_type": "stream",
          "text": [
            "\u001b[34m\u001b[1mwandb\u001b[0m: \u001b[33mWARNING\u001b[0m If you're specifying your api key in code, ensure this code is not shared publicly.\n",
            "\u001b[34m\u001b[1mwandb\u001b[0m: \u001b[33mWARNING\u001b[0m Consider setting the WANDB_API_KEY environment variable, or running `wandb login` from the command line.\n",
            "\u001b[34m\u001b[1mwandb\u001b[0m: No netrc file found, creating one.\n",
            "\u001b[34m\u001b[1mwandb\u001b[0m: Appending key for api.wandb.ai to your netrc file: /root/.netrc\n",
            "\u001b[34m\u001b[1mwandb\u001b[0m: Currently logged in as: \u001b[33mnovoselcevviktor191\u001b[0m (\u001b[33mnovoselcevviktor191-\u001b[0m) to \u001b[32mhttps://api.wandb.ai\u001b[0m. Use \u001b[1m`wandb login --relogin`\u001b[0m to force relogin\n"
          ]
        },
        {
          "data": {
            "text/html": [
              "Tracking run with wandb version 0.19.11"
            ],
            "text/plain": [
              "<IPython.core.display.HTML object>"
            ]
          },
          "metadata": {},
          "output_type": "display_data"
        },
        {
          "data": {
            "text/html": [
              "Run data is saved locally in <code>/content/wandb/run-20250515_191211-3c0pp2pa</code>"
            ],
            "text/plain": [
              "<IPython.core.display.HTML object>"
            ]
          },
          "metadata": {},
          "output_type": "display_data"
        },
        {
          "data": {
            "text/html": [
              "Syncing run <strong><a href='https://wandb.ai/novoselcevviktor191-/cnn_hse/runs/3c0pp2pa' target=\"_blank\">run_baseline</a></strong> to <a href='https://wandb.ai/novoselcevviktor191-/cnn_hse' target=\"_blank\">Weights & Biases</a> (<a href='https://wandb.me/developer-guide' target=\"_blank\">docs</a>)<br>"
            ],
            "text/plain": [
              "<IPython.core.display.HTML object>"
            ]
          },
          "metadata": {},
          "output_type": "display_data"
        },
        {
          "data": {
            "text/html": [
              " View project at <a href='https://wandb.ai/novoselcevviktor191-/cnn_hse' target=\"_blank\">https://wandb.ai/novoselcevviktor191-/cnn_hse</a>"
            ],
            "text/plain": [
              "<IPython.core.display.HTML object>"
            ]
          },
          "metadata": {},
          "output_type": "display_data"
        },
        {
          "data": {
            "text/html": [
              " View run at <a href='https://wandb.ai/novoselcevviktor191-/cnn_hse/runs/3c0pp2pa' target=\"_blank\">https://wandb.ai/novoselcevviktor191-/cnn_hse/runs/3c0pp2pa</a>"
            ],
            "text/plain": [
              "<IPython.core.display.HTML object>"
            ]
          },
          "metadata": {},
          "output_type": "display_data"
        },
        {
          "data": {
            "text/html": [
              "<button onClick=\"this.nextSibling.style.display='block';this.style.display='none';\">Display W&B run</button><iframe src='https://wandb.ai/novoselcevviktor191-/cnn_hse/runs/3c0pp2pa?jupyter=true' style='border:none;width:100%;height:420px;display:none;'></iframe>"
            ],
            "text/plain": [
              "<wandb.sdk.wandb_run.Run at 0x791cb0f62750>"
            ]
          },
          "execution_count": 30,
          "metadata": {},
          "output_type": "execute_result"
        }
      ],
      "source": [
        "import wandb\n",
        "\n",
        "wandb.init(project=\"cnn_hse\", name=\"run_baseline\", config={\n",
        "    \"epochs\": 20,\n",
        "    \"batch_size\": 64,\n",
        "    \"lr\": 0.1,\n",
        "    \"optimizer\": \"SGD\"\n",
        "})"
      ]
    },
    {
      "cell_type": "code",
      "execution_count": null,
      "metadata": {
        "id": "m5gSTLAr_QS4"
      },
      "outputs": [],
      "source": [
        "criterion = nn.CrossEntropyLoss()\n",
        "\n",
        "def test(model, loader, epoch_num):\n",
        "    loss_log = []\n",
        "    acc_log = []\n",
        "    model.eval()\n",
        "\n",
        "    with torch.inference_mode():\n",
        "        for data, target in loader:\n",
        "            data, target = data.to(device), target.to(device)\n",
        "            out = model(data)\n",
        "            loss = criterion(out, target)\n",
        "\n",
        "            loss_log.append(loss.item())\n",
        "\n",
        "            acc = (out.argmax(dim=1) == target).float().mean()\n",
        "\n",
        "            acc_log.append(acc.item())\n",
        "\n",
        "    wandb.log({\n",
        "        \"epoch\": epoch_num,\n",
        "        \"loss/val\": np.mean(loss_log),\n",
        "        \"acc/val\": np.mean(acc_log)\n",
        "    })\n",
        "\n",
        "    return np.mean(loss_log), np.mean(acc_log)\n",
        "\n",
        "def train_epoch(model, optimizer, train_loader, epoch_num):\n",
        "    loss_log = []\n",
        "    acc_log = []\n",
        "    model.train()\n",
        "\n",
        "    step = epoch_num * len(train_loader)\n",
        "    for data, target in train_loader:\n",
        "        data, target = data.to(device), target.to(device)\n",
        "        optimizer.zero_grad()\n",
        "        out = model(data)\n",
        "        loss = criterion(out, target)\n",
        "        loss.backward()\n",
        "        optimizer.step()\n",
        "\n",
        "        loss_log.append(loss.item())\n",
        "\n",
        "        acc = (out.argmax(dim=1) == target).float().mean()\n",
        "\n",
        "        acc_log.append(acc.item())\n",
        "\n",
        "        wandb.log({\n",
        "            \"epoch\": epoch_num,\n",
        "            \"step\": step,\n",
        "            \"loss/train\": loss.item(),\n",
        "            \"acc/train\": acc.item()\n",
        "        })\n",
        "        step += 1\n",
        "\n",
        "    return loss_log, acc_log\n",
        "\n",
        "def train(model, optimizer, n_epochs, train_loader, val_loader, scheduler=None):\n",
        "    train_loss_log, train_acc_log, val_loss_log, val_acc_log = [], [], [], []\n",
        "\n",
        "    for epoch in tqdm(range(n_epochs), leave=True):\n",
        "        train_loss, train_acc = train_epoch(model, optimizer, train_loader, epoch)\n",
        "        val_loss, val_acc = test(model, val_loader, epoch)\n",
        "\n",
        "        train_loss_log.extend(train_loss)\n",
        "        train_acc_log.extend(train_acc)\n",
        "\n",
        "        val_loss_log.append(val_loss)\n",
        "        val_acc_log.append(val_acc)\n",
        "\n",
        "        tqdm.write(f\"Epoch {epoch}\")\n",
        "        tqdm.write(f\" train loss: {np.mean(train_loss)}, train acc: {np.mean(train_acc)}\")\n",
        "        tqdm.write(f\" val loss: {val_loss}, val acc: {val_acc}\\n\")\n",
        "\n",
        "        if scheduler is not None:\n",
        "            scheduler.step()\n",
        "\n",
        "    return train_loss_log, train_acc_log, val_loss_log, val_acc_log"
      ]
    },
    {
      "cell_type": "code",
      "execution_count": null,
      "metadata": {
        "colab": {
          "base_uri": "https://localhost:8080/"
        },
        "id": "j8UiG4yyWKeO",
        "outputId": "c51df957-cce6-4203-fa39-a430e7450375"
      },
      "outputs": [
        {
          "name": "stderr",
          "output_type": "stream",
          "text": [
            "  5%|▌         | 1/20 [00:15<04:49, 15.25s/it]"
          ]
        },
        {
          "name": "stdout",
          "output_type": "stream",
          "text": [
            "Epoch 0\n",
            " train loss: 1.494544515117213, train acc: 0.4681950248573554\n",
            " val loss: 1.2665630878286158, val acc: 0.5434175531914893\n",
            "\n"
          ]
        },
        {
          "name": "stderr",
          "output_type": "stream",
          "text": [
            " 10%|█         | 2/20 [00:30<04:33, 15.22s/it]"
          ]
        },
        {
          "name": "stdout",
          "output_type": "stream",
          "text": [
            "Epoch 1\n",
            " train loss: 1.1876907846609461, train acc: 0.5822954753199269\n",
            " val loss: 1.0886794077589157, val acc: 0.6181072696726373\n",
            "\n"
          ]
        },
        {
          "name": "stderr",
          "output_type": "stream",
          "text": [
            " 15%|█▌        | 3/20 [00:45<04:20, 15.33s/it]"
          ]
        },
        {
          "name": "stdout",
          "output_type": "stream",
          "text": [
            "Epoch 2\n",
            " train loss: 1.064039627638334, train acc: 0.6290643771997971\n",
            " val loss: 1.0587721918491606, val acc: 0.6334441489361702\n",
            "\n"
          ]
        },
        {
          "name": "stderr",
          "output_type": "stream",
          "text": [
            " 20%|██        | 4/20 [01:02<04:14, 15.88s/it]"
          ]
        },
        {
          "name": "stdout",
          "output_type": "stream",
          "text": [
            "Epoch 3\n",
            " train loss: 1.0010548645879058, train acc: 0.6508593954813328\n",
            " val loss: 1.0233841589156618, val acc: 0.6482934398854032\n",
            "\n"
          ]
        },
        {
          "name": "stderr",
          "output_type": "stream",
          "text": [
            " 25%|██▌       | 5/20 [01:18<03:55, 15.72s/it]"
          ]
        },
        {
          "name": "stdout",
          "output_type": "stream",
          "text": [
            "Epoch 4\n",
            " train loss: 0.9584240659499299, train acc: 0.6663293288220435\n",
            " val loss: 1.0297971195362985, val acc: 0.6402925531914894\n",
            "\n"
          ]
        },
        {
          "name": "stderr",
          "output_type": "stream",
          "text": [
            " 30%|███       | 6/20 [01:33<03:37, 15.54s/it]"
          ]
        },
        {
          "name": "stdout",
          "output_type": "stream",
          "text": [
            "Epoch 5\n",
            " train loss: 0.9246443468648293, train acc: 0.6777838535021167\n",
            " val loss: 0.9917097522857341, val acc: 0.6519725178150421\n",
            "\n"
          ]
        },
        {
          "name": "stderr",
          "output_type": "stream",
          "text": [
            " 35%|███▌      | 7/20 [01:48<03:20, 15.44s/it]"
          ]
        },
        {
          "name": "stdout",
          "output_type": "stream",
          "text": [
            "Epoch 6\n",
            " train loss: 0.9050217195664289, train acc: 0.6857085728122285\n",
            " val loss: 0.9870361746625698, val acc: 0.6576462765957447\n",
            "\n"
          ]
        },
        {
          "name": "stderr",
          "output_type": "stream",
          "text": [
            " 40%|████      | 8/20 [02:04<03:06, 15.54s/it]"
          ]
        },
        {
          "name": "stdout",
          "output_type": "stream",
          "text": [
            "Epoch 7\n",
            " train loss: 0.8843801548973516, train acc: 0.6908665774509284\n",
            " val loss: 0.9357036131493589, val acc: 0.6781693263256804\n",
            "\n"
          ]
        },
        {
          "name": "stderr",
          "output_type": "stream",
          "text": [
            " 45%|████▌     | 9/20 [02:19<02:51, 15.55s/it]"
          ]
        },
        {
          "name": "stdout",
          "output_type": "stream",
          "text": [
            "Epoch 8\n",
            " train loss: 0.8734918195325234, train acc: 0.6984893249201383\n",
            " val loss: 0.9366077171995285, val acc: 0.6814051420130628\n",
            "\n"
          ]
        },
        {
          "name": "stderr",
          "output_type": "stream",
          "text": [
            " 50%|█████     | 10/20 [02:35<02:34, 15.49s/it]"
          ]
        },
        {
          "name": "stdout",
          "output_type": "stream",
          "text": [
            "Epoch 9\n",
            " train loss: 0.8457228507594609, train acc: 0.704977637779996\n",
            " val loss: 0.8827158674280694, val acc: 0.7002437944107868\n",
            "\n"
          ]
        },
        {
          "name": "stderr",
          "output_type": "stream",
          "text": [
            " 55%|█████▌    | 11/20 [02:50<02:19, 15.48s/it]"
          ]
        },
        {
          "name": "stdout",
          "output_type": "stream",
          "text": [
            "Epoch 10\n",
            " train loss: 0.8326103074350131, train acc: 0.7088257378372458\n",
            " val loss: 0.9133105435269944, val acc: 0.6851950356300841\n",
            "\n"
          ]
        },
        {
          "name": "stderr",
          "output_type": "stream",
          "text": [
            " 60%|██████    | 12/20 [03:05<02:03, 15.42s/it]"
          ]
        },
        {
          "name": "stdout",
          "output_type": "stream",
          "text": [
            "Epoch 11\n",
            " train loss: 0.8220522490890196, train acc: 0.7122861713552388\n",
            " val loss: 0.8929397780844506, val acc: 0.6946365249917862\n",
            "\n"
          ]
        },
        {
          "name": "stderr",
          "output_type": "stream",
          "text": [
            " 65%|██████▌   | 13/20 [03:22<01:49, 15.69s/it]"
          ]
        },
        {
          "name": "stdout",
          "output_type": "stream",
          "text": [
            "Epoch 12\n",
            " train loss: 0.810948663317961, train acc: 0.718517400228999\n",
            " val loss: 0.8806730749759268, val acc: 0.6950797872340425\n",
            "\n"
          ]
        },
        {
          "name": "stderr",
          "output_type": "stream",
          "text": [
            " 70%|███████   | 14/20 [03:37<01:33, 15.60s/it]"
          ]
        },
        {
          "name": "stdout",
          "output_type": "stream",
          "text": [
            "Epoch 13\n",
            " train loss: 0.8005512020051806, train acc: 0.7221410616660249\n",
            " val loss: 0.9310950507508947, val acc: 0.688408688027808\n",
            "\n"
          ]
        },
        {
          "name": "stderr",
          "output_type": "stream",
          "text": [
            " 75%|███████▌  | 15/20 [03:53<01:17, 15.53s/it]"
          ]
        },
        {
          "name": "stdout",
          "output_type": "stream",
          "text": [
            "Epoch 14\n",
            " train loss: 0.7894750982250548, train acc: 0.7258667407567584\n",
            " val loss: 0.8646458024674274, val acc: 0.7001551420130628\n",
            "\n"
          ]
        },
        {
          "name": "stderr",
          "output_type": "stream",
          "text": [
            " 80%|████████  | 16/20 [04:08<01:01, 15.48s/it]"
          ]
        },
        {
          "name": "stdout",
          "output_type": "stream",
          "text": [
            "Epoch 15\n",
            " train loss: 0.7777675058985541, train acc: 0.7279519784167219\n",
            " val loss: 0.860020267202499, val acc: 0.7058067377577437\n",
            "\n"
          ]
        },
        {
          "name": "stderr",
          "output_type": "stream",
          "text": [
            " 85%|████████▌ | 17/20 [04:23<00:46, 15.49s/it]"
          ]
        },
        {
          "name": "stdout",
          "output_type": "stream",
          "text": [
            "Epoch 16\n",
            " train loss: 0.7750593608541506, train acc: 0.7323387307702296\n",
            " val loss: 0.9646053732709682, val acc: 0.6657136526513607\n",
            "\n"
          ]
        },
        {
          "name": "stderr",
          "output_type": "stream",
          "text": [
            " 90%|█████████ | 18/20 [04:39<00:31, 15.57s/it]"
          ]
        },
        {
          "name": "stdout",
          "output_type": "stream",
          "text": [
            "Epoch 17\n",
            " train loss: 0.7651680440418899, train acc: 0.734158722966419\n",
            " val loss: 0.875137272160104, val acc: 0.7040780143534884\n",
            "\n"
          ]
        },
        {
          "name": "stderr",
          "output_type": "stream",
          "text": [
            " 95%|█████████▌| 19/20 [04:54<00:15, 15.47s/it]"
          ]
        },
        {
          "name": "stdout",
          "output_type": "stream",
          "text": [
            "Epoch 18\n",
            " train loss: 0.7565573842913402, train acc: 0.7386066859121514\n",
            " val loss: 0.8603215803491309, val acc: 0.7064273050490846\n",
            "\n"
          ]
        },
        {
          "name": "stderr",
          "output_type": "stream",
          "text": [
            "100%|██████████| 20/20 [05:10<00:00, 15.55s/it]"
          ]
        },
        {
          "name": "stdout",
          "output_type": "stream",
          "text": [
            "Epoch 19\n",
            " train loss: 0.7524950535358415, train acc: 0.7345259859749342\n",
            " val loss: 0.8729336867941186, val acc: 0.7018395390916378\n",
            "\n"
          ]
        },
        {
          "name": "stderr",
          "output_type": "stream",
          "text": [
            "\n"
          ]
        }
      ],
      "source": [
        "transform = transforms.Compose(\n",
        "        [transforms.ToTensor(),\n",
        "         transforms.Normalize((0.5, 0.5, 0.5), (0.5, 0.5, 0.5))]\n",
        ")\n",
        "\n",
        "train_loader, val_loader, test_loader = get_cifar10_data(batch_size=64, transform_train=transform)\n",
        "\n",
        "net = BasicBlockNet().to(device)\n",
        "optimizer = optim.SGD(net.parameters(), lr=0.1, momentum=0.9)\n",
        "tr_loss_log, tr_acc_log, val_loss_log, val_acc_log = train(net, optimizer, 20, train_loader, val_loader)"
      ]
    },
    {
      "cell_type": "markdown",
      "metadata": {
        "id": "nPrPpCxRarHY"
      },
      "source": [
        "https://wandb.ai/novoselcevviktor191-/cnn_hse/runs/3c0pp2pa"
      ]
    }
  ],
  "metadata": {
    "accelerator": "GPU",
    "colab": {
      "gpuType": "T4",
      "provenance": []
    },
    "kernelspec": {
      "display_name": "Python 3",
      "name": "python3"
    },
    "language_info": {
      "codemirror_mode": {
        "name": "ipython",
        "version": 3
      },
      "file_extension": ".py",
      "mimetype": "text/x-python",
      "name": "python",
      "nbconvert_exporter": "python",
      "pygments_lexer": "ipython3",
      "version": "3.12.1"
    }
  },
  "nbformat": 4,
  "nbformat_minor": 0
}
